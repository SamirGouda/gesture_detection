{
 "cells": [
  {
   "cell_type": "markdown",
   "id": "9c2642fa",
   "metadata": {},
   "source": [
    "**Setup folders**"
   ]
  },
  {
   "cell_type": "code",
   "execution_count": 10,
   "id": "ad7d6d4c",
   "metadata": {},
   "outputs": [],
   "source": [
    "import os"
   ]
  },
  {
   "cell_type": "code",
   "execution_count": 18,
   "id": "3a068817",
   "metadata": {},
   "outputs": [],
   "source": [
    "fine_tuned_model_name = \"ssd_mobnet_model\"\n",
    "pretrained_model_name = \"ssd_mobilenet_v2_fpnlite_320x320_coco17_tpu-8\"\n",
    "pretrained_model_url = \"http://download.tensorflow.org/models/object_detection/tf2/20200711/ssd_mobilenet_v2_fpnlite_320x320_coco17_tpu-8.tar.gz\"\n",
    "tf_record_script_name = \"generate_tfrecord.py\"\n",
    "label_map_name = \"label_map.pbtxt\""
   ]
  },
  {
   "cell_type": "code",
   "execution_count": 19,
   "id": "566247a1",
   "metadata": {},
   "outputs": [],
   "source": [
    "paths = {\n",
    "    \"workspace_path\": os.path.join(\"Tensorflow\", \"workspace\"),\n",
    "    \"scripts_path\": os.path.join(\"Tensorflow\", \"scripts\"),\n",
    "    \"API_model_path\": os.path.join(\"Tensorflow\", \"models\"),\n",
    "    'annotation_path': os.path.join('Tensorflow', 'workspace','annotations'),\n",
    "    'image_path': os.path.join('Tensorflow', 'workspace','images'),\n",
    "    'model_path': os.path.join('Tensorflow', 'workspace','models'),\n",
    "    'pretrained_model_path': os.path.join('Tensorflow', 'workspace','pre-trained-models'),\n",
    "    'chechpoint_path': os.path.join(\"Tensorflow\", \"workspace\", \"models\", fine_tuned_model_name),\n",
    "    'output_path': os.path.join(\"Tensorflow\", \"workspace\", \"models\", fine_tuned_model_name, \"export\"),\n",
    "    'tfsj_path': os.path.join(\"Tensorflow\", \"workspace\", \"models\", fine_tuned_model_name, 'tfsj_export'),\n",
    "    'tflite_path': os.path.join(\"Tensorflow\", \"workspace\", \"models\", fine_tuned_model_name, 'tflite_export'),\n",
    "    'protoc_path': os.path.join(\"Tensorflow\", \"protoc\")\n",
    "    \n",
    "}"
   ]
  },
  {
   "cell_type": "code",
   "execution_count": 20,
   "id": "2dfbc287",
   "metadata": {},
   "outputs": [],
   "source": [
    "files = {\n",
    "    'pipeline_config': os.path.join('Tensorflow', 'workspace', 'models', fine_tuned_model_name, 'pipeline.config'),\n",
    "    'tf_record_script': os.path.join(paths['scripts_path'], tf_record_script_name),\n",
    "    'label_map': os.path.join(paths['annotation_path'], label_map_name)\n",
    "    \n",
    "}"
   ]
  },
  {
   "cell_type": "code",
   "execution_count": 38,
   "id": "266684b9",
   "metadata": {},
   "outputs": [],
   "source": [
    "for path in paths.values():\n",
    "    if not os.path.exists(path):\n",
    "        if os.name == \"posix\":\n",
    "            !mkdir -p {path}\n",
    "        if os.name == \"nt\":\n",
    "            !mkdir {path}"
   ]
  },
  {
   "cell_type": "markdown",
   "id": "3f253619",
   "metadata": {},
   "source": [
    "**Install TFOD and download Pretrained model**"
   ]
  },
  {
   "cell_type": "code",
   "execution_count": 5,
   "id": "7761107d",
   "metadata": {},
   "outputs": [
    {
     "name": "stdout",
     "output_type": "stream",
     "text": [
      "Requirement already satisfied: wget in c:\\users\\samirgouda\\desktop\\object_detection\\tfodcourse\\tfod\\lib\\site-packages (3.2)\n"
     ]
    }
   ],
   "source": [
    "# install wget for windows only\n",
    "if os.name == \"nt\":\n",
    "    !pip install wget\n",
    "    import wget"
   ]
  },
  {
   "cell_type": "code",
   "execution_count": 24,
   "id": "1141cf6d",
   "metadata": {},
   "outputs": [],
   "source": [
    "# clone tensorflow models github\n",
    "if not os.path.exists(os.path.join(paths['API_model_path'], 'research', 'object_detection')):\n",
    "    !git clone https://github.com/tensorflow/models {paths['API_model_path']}"
   ]
  },
  {
   "cell_type": "code",
   "execution_count": null,
   "id": "156138fc",
   "metadata": {},
   "outputs": [],
   "source": [
    "# install tensorflow object detection\n",
    "if os.name == \"posix\":\n",
    "    !apt-get install protobuf-compiler\n",
    "    !cd Tensorflow/models/research && protoc object_detection/protos/*.proto --python_out=. && cp object_detection/packages/tf2/setup.py . && python -m pip install .\n",
    "\n",
    "if os.name == 'nt':\n",
    "    url = \"https://github.com/protocolbuffers/protobuf/releases/download/v3.15.6/protoc-3.15.6-win64.zip\"\n",
    "    wget.download(url)\n",
    "    !move protoc-3.15.6-win64.zip {paths['protoc_path']}\n",
    "    !cd {paths['protoc_path']} && tar -xf protoc-3.15.6-win64.zip\n",
    "    os.environ['PATH'] += os.pathsep + os.path.abspath(os.path.join(paths['protoc_path'], 'bin'))\n",
    "    !cd Tensorflow/models/research && protoc object_detection/protos/*.proto --python_out=. && copy object_detection\\\\packages\\\\tf2\\\\setup.py setup.py && python setup.py build && python setup.py install\n",
    "    !cd Tensorflow/models/research/slim && pip install -e ."
   ]
  },
  {
   "cell_type": "code",
   "execution_count": 29,
   "id": "d7a0609c",
   "metadata": {},
   "outputs": [
    {
     "name": "stderr",
     "output_type": "stream",
     "text": [
      "2021-08-02 14:02:14.332610: I tensorflow/stream_executor/platform/default/dso_loader.cc:48] Successfully opened dynamic library cudart64_101.dll\n",
      "Running tests under Python 3.8.10: C:\\Users\\SamirGouda\\Desktop\\object_detection\\TFODCourse\\tfod\\Scripts\\python.exe\n",
      "[ RUN      ] ModelBuilderTF2Test.test_create_center_net_deepmac\n",
      "2021-08-02 14:02:21.903515: I tensorflow/stream_executor/platform/default/dso_loader.cc:48] Successfully opened dynamic library nvcuda.dll\n",
      "2021-08-02 14:02:22.385897: I tensorflow/core/common_runtime/gpu/gpu_device.cc:1716] Found device 0 with properties: \n",
      "pciBusID: 0000:07:00.0 name: GeForce GT 740M computeCapability: 3.5\n",
      "coreClock: 1.0325GHz coreCount: 2 deviceMemorySize: 2.00GiB deviceMemoryBandwidth: 13.41GiB/s\n",
      "2021-08-02 14:02:22.385959: I tensorflow/stream_executor/platform/default/dso_loader.cc:48] Successfully opened dynamic library cudart64_101.dll\n",
      "2021-08-02 14:02:22.469356: I tensorflow/stream_executor/platform/default/dso_loader.cc:48] Successfully opened dynamic library cublas64_10.dll\n",
      "2021-08-02 14:02:22.474147: I tensorflow/stream_executor/platform/default/dso_loader.cc:48] Successfully opened dynamic library cufft64_10.dll\n",
      "2021-08-02 14:02:22.499934: I tensorflow/stream_executor/platform/default/dso_loader.cc:48] Successfully opened dynamic library curand64_10.dll\n",
      "2021-08-02 14:02:22.594010: I tensorflow/stream_executor/platform/default/dso_loader.cc:48] Successfully opened dynamic library cusolver64_10.dll\n",
      "2021-08-02 14:02:22.597880: I tensorflow/stream_executor/platform/default/dso_loader.cc:48] Successfully opened dynamic library cusparse64_10.dll\n",
      "2021-08-02 14:02:22.638023: I tensorflow/stream_executor/platform/default/dso_loader.cc:48] Successfully opened dynamic library cudnn64_7.dll\n",
      "2021-08-02 14:02:22.638983: I tensorflow/core/common_runtime/gpu/gpu_device.cc:1858] Adding visible gpu devices: 0\n",
      "2021-08-02 14:02:22.640158: I tensorflow/core/platform/cpu_feature_guard.cc:142] This TensorFlow binary is optimized with oneAPI Deep Neural Network Library (oneDNN)to use the following CPU instructions in performance-critical operations:  AVX2\n",
      "To enable them in other operations, rebuild TensorFlow with the appropriate compiler flags.\n",
      "2021-08-02 14:02:22.656267: I tensorflow/compiler/xla/service/service.cc:168] XLA service 0x21cab747d00 initialized for platform Host (this does not guarantee that XLA will be used). Devices:\n",
      "2021-08-02 14:02:22.656314: I tensorflow/compiler/xla/service/service.cc:176]   StreamExecutor device (0): Host, Default Version\n",
      "2021-08-02 14:02:22.657225: I tensorflow/core/common_runtime/gpu/gpu_device.cc:1716] Found device 0 with properties: \n",
      "pciBusID: 0000:07:00.0 name: GeForce GT 740M computeCapability: 3.5\n",
      "coreClock: 1.0325GHz coreCount: 2 deviceMemorySize: 2.00GiB deviceMemoryBandwidth: 13.41GiB/s\n",
      "2021-08-02 14:02:22.657290: I tensorflow/stream_executor/platform/default/dso_loader.cc:48] Successfully opened dynamic library cudart64_101.dll\n",
      "2021-08-02 14:02:22.657322: I tensorflow/stream_executor/platform/default/dso_loader.cc:48] Successfully opened dynamic library cublas64_10.dll\n",
      "2021-08-02 14:02:22.657342: I tensorflow/stream_executor/platform/default/dso_loader.cc:48] Successfully opened dynamic library cufft64_10.dll\n",
      "2021-08-02 14:02:22.657360: I tensorflow/stream_executor/platform/default/dso_loader.cc:48] Successfully opened dynamic library curand64_10.dll\n",
      "2021-08-02 14:02:22.657384: I tensorflow/stream_executor/platform/default/dso_loader.cc:48] Successfully opened dynamic library cusolver64_10.dll\n",
      "2021-08-02 14:02:22.657433: I tensorflow/stream_executor/platform/default/dso_loader.cc:48] Successfully opened dynamic library cusparse64_10.dll\n",
      "2021-08-02 14:02:22.657519: I tensorflow/stream_executor/platform/default/dso_loader.cc:48] Successfully opened dynamic library cudnn64_7.dll\n",
      "2021-08-02 14:02:22.658519: I tensorflow/core/common_runtime/gpu/gpu_device.cc:1858] Adding visible gpu devices: 0\n",
      "2021-08-02 14:02:23.613137: I tensorflow/core/common_runtime/gpu/gpu_device.cc:1257] Device interconnect StreamExecutor with strength 1 edge matrix:\n",
      "2021-08-02 14:02:23.613209: I tensorflow/core/common_runtime/gpu/gpu_device.cc:1263]      0 \n",
      "2021-08-02 14:02:23.613238: I tensorflow/core/common_runtime/gpu/gpu_device.cc:1276] 0:   N \n",
      "2021-08-02 14:02:23.615038: I tensorflow/core/common_runtime/gpu/gpu_device.cc:1402] Created TensorFlow device (/job:localhost/replica:0/task:0/device:GPU:0 with 1402 MB memory) -> physical GPU (device: 0, name: GeForce GT 740M, pci bus id: 0000:07:00.0, compute capability: 3.5)\n",
      "2021-08-02 14:02:23.623076: I tensorflow/compiler/xla/service/service.cc:168] XLA service 0x21cc5049b70 initialized for platform CUDA (this does not guarantee that XLA will be used). Devices:\n",
      "2021-08-02 14:02:23.623117: I tensorflow/compiler/xla/service/service.cc:176]   StreamExecutor device (0): GeForce GT 740M, Compute Capability 3.5\n",
      "C:\\Users\\SamirGouda\\Desktop\\object_detection\\TFODCourse\\tfod\\lib\\site-packages\\object_detection-0.1-py3.8.egg\\object_detection\\builders\\model_builder.py:1088: DeprecationWarning: The 'warn' function is deprecated, use 'warning' instead\n",
      "  logging.warn(('Building experimental DeepMAC meta-arch.'\n",
      "W0802 14:02:24.294393  4376 model_builder.py:1088] Building experimental DeepMAC meta-arch. Some features may be omitted.\n",
      "INFO:tensorflow:time(__main__.ModelBuilderTF2Test.test_create_center_net_deepmac): 2.77s\n",
      "I0802 14:02:24.660414  4376 test_util.py:1972] time(__main__.ModelBuilderTF2Test.test_create_center_net_deepmac): 2.77s\n",
      "[       OK ] ModelBuilderTF2Test.test_create_center_net_deepmac\n",
      "[ RUN      ] ModelBuilderTF2Test.test_create_center_net_model0 (customize_head_params=True)\n",
      "INFO:tensorflow:time(__main__.ModelBuilderTF2Test.test_create_center_net_model0 (customize_head_params=True)): 1.46s\n",
      "I0802 14:02:26.121391  4376 test_util.py:1972] time(__main__.ModelBuilderTF2Test.test_create_center_net_model0 (customize_head_params=True)): 1.46s\n",
      "[       OK ] ModelBuilderTF2Test.test_create_center_net_model0 (customize_head_params=True)\n",
      "[ RUN      ] ModelBuilderTF2Test.test_create_center_net_model1 (customize_head_params=False)\n",
      "INFO:tensorflow:time(__main__.ModelBuilderTF2Test.test_create_center_net_model1 (customize_head_params=False)): 0.41s\n",
      "I0802 14:02:26.529392  4376 test_util.py:1972] time(__main__.ModelBuilderTF2Test.test_create_center_net_model1 (customize_head_params=False)): 0.41s\n",
      "[       OK ] ModelBuilderTF2Test.test_create_center_net_model1 (customize_head_params=False)\n",
      "[ RUN      ] ModelBuilderTF2Test.test_create_center_net_model_from_keypoints\n",
      "INFO:tensorflow:time(__main__.ModelBuilderTF2Test.test_create_center_net_model_from_keypoints): 0.36s\n",
      "I0802 14:02:26.888395  4376 test_util.py:1972] time(__main__.ModelBuilderTF2Test.test_create_center_net_model_from_keypoints): 0.36s\n",
      "[       OK ] ModelBuilderTF2Test.test_create_center_net_model_from_keypoints\n",
      "[ RUN      ] ModelBuilderTF2Test.test_create_center_net_model_mobilenet\n",
      "WARNING:tensorflow:`input_shape` is undefined or non-square, or `rows` is not in [96, 128, 160, 192, 224]. Weights for input shape (224, 224) will be loaded as the default.\n",
      "W0802 14:02:26.896412  4376 mobilenet_v2.py:285] `input_shape` is undefined or non-square, or `rows` is not in [96, 128, 160, 192, 224]. Weights for input shape (224, 224) will be loaded as the default.\n",
      "INFO:tensorflow:time(__main__.ModelBuilderTF2Test.test_create_center_net_model_mobilenet): 4.55s\n",
      "I0802 14:02:31.440391  4376 test_util.py:1972] time(__main__.ModelBuilderTF2Test.test_create_center_net_model_mobilenet): 4.55s\n",
      "[  FAILED  ] ModelBuilderTF2Test.test_create_center_net_model_mobilenet\n",
      "[ RUN      ] ModelBuilderTF2Test.test_create_experimental_model\n",
      "INFO:tensorflow:time(__main__.ModelBuilderTF2Test.test_create_experimental_model): 0.0s\n",
      "I0802 14:02:31.445410  4376 test_util.py:1972] time(__main__.ModelBuilderTF2Test.test_create_experimental_model): 0.0s\n",
      "[       OK ] ModelBuilderTF2Test.test_create_experimental_model\n",
      "[ RUN      ] ModelBuilderTF2Test.test_create_faster_rcnn_from_config_with_crop_feature0 (True)\n",
      "INFO:tensorflow:time(__main__.ModelBuilderTF2Test.test_create_faster_rcnn_from_config_with_crop_feature0 (True)): 0.03s\n",
      "I0802 14:02:31.471391  4376 test_util.py:1972] time(__main__.ModelBuilderTF2Test.test_create_faster_rcnn_from_config_with_crop_feature0 (True)): 0.03s\n",
      "[       OK ] ModelBuilderTF2Test.test_create_faster_rcnn_from_config_with_crop_feature0 (True)\n",
      "[ RUN      ] ModelBuilderTF2Test.test_create_faster_rcnn_from_config_with_crop_feature1 (False)\n",
      "INFO:tensorflow:time(__main__.ModelBuilderTF2Test.test_create_faster_rcnn_from_config_with_crop_feature1 (False)): 0.02s\n",
      "I0802 14:02:31.495393  4376 test_util.py:1972] time(__main__.ModelBuilderTF2Test.test_create_faster_rcnn_from_config_with_crop_feature1 (False)): 0.02s\n",
      "[       OK ] ModelBuilderTF2Test.test_create_faster_rcnn_from_config_with_crop_feature1 (False)\n",
      "[ RUN      ] ModelBuilderTF2Test.test_create_faster_rcnn_model_from_config_with_example_miner\n",
      "INFO:tensorflow:time(__main__.ModelBuilderTF2Test.test_create_faster_rcnn_model_from_config_with_example_miner): 0.03s\n",
      "I0802 14:02:31.522396  4376 test_util.py:1972] time(__main__.ModelBuilderTF2Test.test_create_faster_rcnn_model_from_config_with_example_miner): 0.03s\n",
      "[       OK ] ModelBuilderTF2Test.test_create_faster_rcnn_model_from_config_with_example_miner\n",
      "[ RUN      ] ModelBuilderTF2Test.test_create_faster_rcnn_models_from_config_faster_rcnn_with_matmul\n",
      "INFO:tensorflow:time(__main__.ModelBuilderTF2Test.test_create_faster_rcnn_models_from_config_faster_rcnn_with_matmul): 0.25s\n",
      "I0802 14:02:31.776414  4376 test_util.py:1972] time(__main__.ModelBuilderTF2Test.test_create_faster_rcnn_models_from_config_faster_rcnn_with_matmul): 0.25s\n",
      "[       OK ] ModelBuilderTF2Test.test_create_faster_rcnn_models_from_config_faster_rcnn_with_matmul\n",
      "[ RUN      ] ModelBuilderTF2Test.test_create_faster_rcnn_models_from_config_faster_rcnn_without_matmul\n",
      "INFO:tensorflow:time(__main__.ModelBuilderTF2Test.test_create_faster_rcnn_models_from_config_faster_rcnn_without_matmul): 0.15s\n",
      "I0802 14:02:31.923413  4376 test_util.py:1972] time(__main__.ModelBuilderTF2Test.test_create_faster_rcnn_models_from_config_faster_rcnn_without_matmul): 0.15s\n",
      "[       OK ] ModelBuilderTF2Test.test_create_faster_rcnn_models_from_config_faster_rcnn_without_matmul\n",
      "[ RUN      ] ModelBuilderTF2Test.test_create_faster_rcnn_models_from_config_mask_rcnn_with_matmul\n",
      "INFO:tensorflow:time(__main__.ModelBuilderTF2Test.test_create_faster_rcnn_models_from_config_mask_rcnn_with_matmul): 0.15s\n",
      "I0802 14:02:32.075392  4376 test_util.py:1972] time(__main__.ModelBuilderTF2Test.test_create_faster_rcnn_models_from_config_mask_rcnn_with_matmul): 0.15s\n",
      "[       OK ] ModelBuilderTF2Test.test_create_faster_rcnn_models_from_config_mask_rcnn_with_matmul\n",
      "[ RUN      ] ModelBuilderTF2Test.test_create_faster_rcnn_models_from_config_mask_rcnn_without_matmul\n",
      "INFO:tensorflow:time(__main__.ModelBuilderTF2Test.test_create_faster_rcnn_models_from_config_mask_rcnn_without_matmul): 0.17s\n",
      "I0802 14:02:32.243392  4376 test_util.py:1972] time(__main__.ModelBuilderTF2Test.test_create_faster_rcnn_models_from_config_mask_rcnn_without_matmul): 0.17s\n",
      "[       OK ] ModelBuilderTF2Test.test_create_faster_rcnn_models_from_config_mask_rcnn_without_matmul\n",
      "[ RUN      ] ModelBuilderTF2Test.test_create_rfcn_model_from_config\n",
      "INFO:tensorflow:time(__main__.ModelBuilderTF2Test.test_create_rfcn_model_from_config): 0.16s\n",
      "I0802 14:02:32.407392  4376 test_util.py:1972] time(__main__.ModelBuilderTF2Test.test_create_rfcn_model_from_config): 0.16s\n",
      "[       OK ] ModelBuilderTF2Test.test_create_rfcn_model_from_config\n",
      "[ RUN      ] ModelBuilderTF2Test.test_create_ssd_fpn_model_from_config\n",
      "INFO:tensorflow:time(__main__.ModelBuilderTF2Test.test_create_ssd_fpn_model_from_config): 0.04s\n",
      "I0802 14:02:32.449396  4376 test_util.py:1972] time(__main__.ModelBuilderTF2Test.test_create_ssd_fpn_model_from_config): 0.04s\n",
      "[       OK ] ModelBuilderTF2Test.test_create_ssd_fpn_model_from_config\n",
      "[ RUN      ] ModelBuilderTF2Test.test_create_ssd_models_from_config\n",
      "I0802 14:02:32.751392  4376 ssd_efficientnet_bifpn_feature_extractor.py:142] EfficientDet EfficientNet backbone version: efficientnet-b0\n",
      "I0802 14:02:32.751392  4376 ssd_efficientnet_bifpn_feature_extractor.py:144] EfficientDet BiFPN num filters: 64\n",
      "I0802 14:02:32.751392  4376 ssd_efficientnet_bifpn_feature_extractor.py:145] EfficientDet BiFPN num iterations: 3\n"
     ]
    },
    {
     "name": "stderr",
     "output_type": "stream",
     "text": [
      "I0802 14:02:32.756389  4376 efficientnet_model.py:147] round_filter input=32 output=32\n",
      "I0802 14:02:32.786415  4376 efficientnet_model.py:147] round_filter input=32 output=32\n",
      "I0802 14:02:32.787401  4376 efficientnet_model.py:147] round_filter input=16 output=16\n",
      "I0802 14:02:32.873394  4376 efficientnet_model.py:147] round_filter input=16 output=16\n",
      "I0802 14:02:32.873394  4376 efficientnet_model.py:147] round_filter input=24 output=24\n",
      "I0802 14:02:33.131396  4376 efficientnet_model.py:147] round_filter input=24 output=24\n",
      "I0802 14:02:33.131396  4376 efficientnet_model.py:147] round_filter input=40 output=40\n",
      "I0802 14:02:33.387414  4376 efficientnet_model.py:147] round_filter input=40 output=40\n",
      "I0802 14:02:33.387414  4376 efficientnet_model.py:147] round_filter input=80 output=80\n",
      "I0802 14:02:34.014396  4376 efficientnet_model.py:147] round_filter input=80 output=80\n",
      "I0802 14:02:34.014396  4376 efficientnet_model.py:147] round_filter input=112 output=112\n",
      "I0802 14:02:34.456392  4376 efficientnet_model.py:147] round_filter input=112 output=112\n",
      "I0802 14:02:34.456392  4376 efficientnet_model.py:147] round_filter input=192 output=192\n",
      "I0802 14:02:35.045397  4376 efficientnet_model.py:147] round_filter input=192 output=192\n",
      "I0802 14:02:35.045397  4376 efficientnet_model.py:147] round_filter input=320 output=320\n",
      "I0802 14:02:35.167414  4376 efficientnet_model.py:147] round_filter input=1280 output=1280\n",
      "I0802 14:02:35.219397  4376 efficientnet_model.py:458] Building model efficientnet with params ModelConfig(width_coefficient=1.0, depth_coefficient=1.0, resolution=224, dropout_rate=0.2, blocks=(BlockConfig(input_filters=32, output_filters=16, kernel_size=3, num_repeat=1, expand_ratio=1, strides=(1, 1), se_ratio=0.25, id_skip=True, fused_conv=False, conv_type='depthwise'), BlockConfig(input_filters=16, output_filters=24, kernel_size=3, num_repeat=2, expand_ratio=6, strides=(2, 2), se_ratio=0.25, id_skip=True, fused_conv=False, conv_type='depthwise'), BlockConfig(input_filters=24, output_filters=40, kernel_size=5, num_repeat=2, expand_ratio=6, strides=(2, 2), se_ratio=0.25, id_skip=True, fused_conv=False, conv_type='depthwise'), BlockConfig(input_filters=40, output_filters=80, kernel_size=3, num_repeat=3, expand_ratio=6, strides=(2, 2), se_ratio=0.25, id_skip=True, fused_conv=False, conv_type='depthwise'), BlockConfig(input_filters=80, output_filters=112, kernel_size=5, num_repeat=3, expand_ratio=6, strides=(1, 1), se_ratio=0.25, id_skip=True, fused_conv=False, conv_type='depthwise'), BlockConfig(input_filters=112, output_filters=192, kernel_size=5, num_repeat=4, expand_ratio=6, strides=(2, 2), se_ratio=0.25, id_skip=True, fused_conv=False, conv_type='depthwise'), BlockConfig(input_filters=192, output_filters=320, kernel_size=3, num_repeat=1, expand_ratio=6, strides=(1, 1), se_ratio=0.25, id_skip=True, fused_conv=False, conv_type='depthwise')), stem_base_filters=32, top_base_filters=1280, activation='simple_swish', batch_norm='default', bn_momentum=0.99, bn_epsilon=0.001, weight_decay=5e-06, drop_connect_rate=0.2, depth_divisor=8, min_depth=None, use_se=True, input_channels=3, num_classes=1000, model_name='efficientnet', rescale_input=False, data_format='channels_last', dtype='float32')\n",
      "I0802 14:02:35.325397  4376 ssd_efficientnet_bifpn_feature_extractor.py:142] EfficientDet EfficientNet backbone version: efficientnet-b1\n",
      "I0802 14:02:35.325397  4376 ssd_efficientnet_bifpn_feature_extractor.py:144] EfficientDet BiFPN num filters: 88\n",
      "I0802 14:02:35.326395  4376 ssd_efficientnet_bifpn_feature_extractor.py:145] EfficientDet BiFPN num iterations: 4\n",
      "I0802 14:02:35.330395  4376 efficientnet_model.py:147] round_filter input=32 output=32\n",
      "I0802 14:02:35.359393  4376 efficientnet_model.py:147] round_filter input=32 output=32\n",
      "I0802 14:02:35.360393  4376 efficientnet_model.py:147] round_filter input=16 output=16\n",
      "I0802 14:02:35.551396  4376 efficientnet_model.py:147] round_filter input=16 output=16\n",
      "I0802 14:02:35.551396  4376 efficientnet_model.py:147] round_filter input=24 output=24\n",
      "I0802 14:02:36.048414  4376 efficientnet_model.py:147] round_filter input=24 output=24\n",
      "I0802 14:02:36.048414  4376 efficientnet_model.py:147] round_filter input=40 output=40\n",
      "I0802 14:02:36.435396  4376 efficientnet_model.py:147] round_filter input=40 output=40\n",
      "I0802 14:02:36.435396  4376 efficientnet_model.py:147] round_filter input=80 output=80\n",
      "I0802 14:02:36.954414  4376 efficientnet_model.py:147] round_filter input=80 output=80\n",
      "I0802 14:02:36.955414  4376 efficientnet_model.py:147] round_filter input=112 output=112\n",
      "I0802 14:02:37.572400  4376 efficientnet_model.py:147] round_filter input=112 output=112\n",
      "I0802 14:02:37.572400  4376 efficientnet_model.py:147] round_filter input=192 output=192\n",
      "I0802 14:02:38.248392  4376 efficientnet_model.py:147] round_filter input=192 output=192\n",
      "I0802 14:02:38.248392  4376 efficientnet_model.py:147] round_filter input=320 output=320\n",
      "I0802 14:02:38.556393  4376 efficientnet_model.py:147] round_filter input=1280 output=1280\n",
      "I0802 14:02:38.636394  4376 efficientnet_model.py:458] Building model efficientnet with params ModelConfig(width_coefficient=1.0, depth_coefficient=1.1, resolution=240, dropout_rate=0.2, blocks=(BlockConfig(input_filters=32, output_filters=16, kernel_size=3, num_repeat=1, expand_ratio=1, strides=(1, 1), se_ratio=0.25, id_skip=True, fused_conv=False, conv_type='depthwise'), BlockConfig(input_filters=16, output_filters=24, kernel_size=3, num_repeat=2, expand_ratio=6, strides=(2, 2), se_ratio=0.25, id_skip=True, fused_conv=False, conv_type='depthwise'), BlockConfig(input_filters=24, output_filters=40, kernel_size=5, num_repeat=2, expand_ratio=6, strides=(2, 2), se_ratio=0.25, id_skip=True, fused_conv=False, conv_type='depthwise'), BlockConfig(input_filters=40, output_filters=80, kernel_size=3, num_repeat=3, expand_ratio=6, strides=(2, 2), se_ratio=0.25, id_skip=True, fused_conv=False, conv_type='depthwise'), BlockConfig(input_filters=80, output_filters=112, kernel_size=5, num_repeat=3, expand_ratio=6, strides=(1, 1), se_ratio=0.25, id_skip=True, fused_conv=False, conv_type='depthwise'), BlockConfig(input_filters=112, output_filters=192, kernel_size=5, num_repeat=4, expand_ratio=6, strides=(2, 2), se_ratio=0.25, id_skip=True, fused_conv=False, conv_type='depthwise'), BlockConfig(input_filters=192, output_filters=320, kernel_size=3, num_repeat=1, expand_ratio=6, strides=(1, 1), se_ratio=0.25, id_skip=True, fused_conv=False, conv_type='depthwise')), stem_base_filters=32, top_base_filters=1280, activation='simple_swish', batch_norm='default', bn_momentum=0.99, bn_epsilon=0.001, weight_decay=5e-06, drop_connect_rate=0.2, depth_divisor=8, min_depth=None, use_se=True, input_channels=3, num_classes=1000, model_name='efficientnet', rescale_input=False, data_format='channels_last', dtype='float32')\n",
      "I0802 14:02:38.804394  4376 ssd_efficientnet_bifpn_feature_extractor.py:142] EfficientDet EfficientNet backbone version: efficientnet-b2\n",
      "I0802 14:02:38.804394  4376 ssd_efficientnet_bifpn_feature_extractor.py:144] EfficientDet BiFPN num filters: 112\n",
      "I0802 14:02:38.804394  4376 ssd_efficientnet_bifpn_feature_extractor.py:145] EfficientDet BiFPN num iterations: 5\n",
      "I0802 14:02:38.811393  4376 efficientnet_model.py:147] round_filter input=32 output=32\n",
      "I0802 14:02:38.854395  4376 efficientnet_model.py:147] round_filter input=32 output=32\n",
      "I0802 14:02:38.854395  4376 efficientnet_model.py:147] round_filter input=16 output=16\n",
      "I0802 14:02:39.056392  4376 efficientnet_model.py:147] round_filter input=16 output=16\n",
      "I0802 14:02:39.056392  4376 efficientnet_model.py:147] round_filter input=24 output=24\n",
      "I0802 14:02:39.434413  4376 efficientnet_model.py:147] round_filter input=24 output=24\n",
      "I0802 14:02:39.434413  4376 efficientnet_model.py:147] round_filter input=40 output=48\n",
      "I0802 14:02:39.977393  4376 efficientnet_model.py:147] round_filter input=40 output=48\n",
      "I0802 14:02:39.977393  4376 efficientnet_model.py:147] round_filter input=80 output=88\n",
      "I0802 14:02:40.522397  4376 efficientnet_model.py:147] round_filter input=80 output=88\n",
      "I0802 14:02:40.522397  4376 efficientnet_model.py:147] round_filter input=112 output=120\n",
      "I0802 14:02:41.149394  4376 efficientnet_model.py:147] round_filter input=112 output=120\n",
      "I0802 14:02:41.149394  4376 efficientnet_model.py:147] round_filter input=192 output=208\n",
      "I0802 14:02:41.806392  4376 efficientnet_model.py:147] round_filter input=192 output=208\n",
      "I0802 14:02:41.806392  4376 efficientnet_model.py:147] round_filter input=320 output=352\n",
      "I0802 14:02:42.062397  4376 efficientnet_model.py:147] round_filter input=1280 output=1408\n",
      "I0802 14:02:42.119415  4376 efficientnet_model.py:458] Building model efficientnet with params ModelConfig(width_coefficient=1.1, depth_coefficient=1.2, resolution=260, dropout_rate=0.3, blocks=(BlockConfig(input_filters=32, output_filters=16, kernel_size=3, num_repeat=1, expand_ratio=1, strides=(1, 1), se_ratio=0.25, id_skip=True, fused_conv=False, conv_type='depthwise'), BlockConfig(input_filters=16, output_filters=24, kernel_size=3, num_repeat=2, expand_ratio=6, strides=(2, 2), se_ratio=0.25, id_skip=True, fused_conv=False, conv_type='depthwise'), BlockConfig(input_filters=24, output_filters=40, kernel_size=5, num_repeat=2, expand_ratio=6, strides=(2, 2), se_ratio=0.25, id_skip=True, fused_conv=False, conv_type='depthwise'), BlockConfig(input_filters=40, output_filters=80, kernel_size=3, num_repeat=3, expand_ratio=6, strides=(2, 2), se_ratio=0.25, id_skip=True, fused_conv=False, conv_type='depthwise'), BlockConfig(input_filters=80, output_filters=112, kernel_size=5, num_repeat=3, expand_ratio=6, strides=(1, 1), se_ratio=0.25, id_skip=True, fused_conv=False, conv_type='depthwise'), BlockConfig(input_filters=112, output_filters=192, kernel_size=5, num_repeat=4, expand_ratio=6, strides=(2, 2), se_ratio=0.25, id_skip=True, fused_conv=False, conv_type='depthwise'), BlockConfig(input_filters=192, output_filters=320, kernel_size=3, num_repeat=1, expand_ratio=6, strides=(1, 1), se_ratio=0.25, id_skip=True, fused_conv=False, conv_type='depthwise')), stem_base_filters=32, top_base_filters=1280, activation='simple_swish', batch_norm='default', bn_momentum=0.99, bn_epsilon=0.001, weight_decay=5e-06, drop_connect_rate=0.2, depth_divisor=8, min_depth=None, use_se=True, input_channels=3, num_classes=1000, model_name='efficientnet', rescale_input=False, data_format='channels_last', dtype='float32')\n",
      "I0802 14:02:42.232397  4376 ssd_efficientnet_bifpn_feature_extractor.py:142] EfficientDet EfficientNet backbone version: efficientnet-b3\n",
      "I0802 14:02:42.232397  4376 ssd_efficientnet_bifpn_feature_extractor.py:144] EfficientDet BiFPN num filters: 160\n",
      "I0802 14:02:42.232397  4376 ssd_efficientnet_bifpn_feature_extractor.py:145] EfficientDet BiFPN num iterations: 6\n",
      "I0802 14:02:42.237413  4376 efficientnet_model.py:147] round_filter input=32 output=40\n",
      "I0802 14:02:42.264394  4376 efficientnet_model.py:147] round_filter input=32 output=40\n",
      "I0802 14:02:42.264394  4376 efficientnet_model.py:147] round_filter input=16 output=24\n",
      "I0802 14:02:42.461414  4376 efficientnet_model.py:147] round_filter input=16 output=24\n",
      "I0802 14:02:42.461414  4376 efficientnet_model.py:147] round_filter input=24 output=32\n",
      "I0802 14:02:42.831413  4376 efficientnet_model.py:147] round_filter input=24 output=32\n",
      "I0802 14:02:42.831413  4376 efficientnet_model.py:147] round_filter input=40 output=48\n",
      "I0802 14:02:43.227394  4376 efficientnet_model.py:147] round_filter input=40 output=48\n",
      "I0802 14:02:43.227394  4376 efficientnet_model.py:147] round_filter input=80 output=96\n",
      "I0802 14:02:44.086393  4376 efficientnet_model.py:147] round_filter input=80 output=96\n",
      "I0802 14:02:44.086393  4376 efficientnet_model.py:147] round_filter input=112 output=136\n",
      "I0802 14:02:44.959393  4376 efficientnet_model.py:147] round_filter input=112 output=136\n",
      "I0802 14:02:44.959393  4376 efficientnet_model.py:147] round_filter input=192 output=232\n",
      "I0802 14:02:45.752414  4376 efficientnet_model.py:147] round_filter input=192 output=232\n",
      "I0802 14:02:45.752414  4376 efficientnet_model.py:147] round_filter input=320 output=384\n",
      "I0802 14:02:46.028393  4376 efficientnet_model.py:147] round_filter input=1280 output=1536\n",
      "I0802 14:02:46.081397  4376 efficientnet_model.py:458] Building model efficientnet with params ModelConfig(width_coefficient=1.2, depth_coefficient=1.4, resolution=300, dropout_rate=0.3, blocks=(BlockConfig(input_filters=32, output_filters=16, kernel_size=3, num_repeat=1, expand_ratio=1, strides=(1, 1), se_ratio=0.25, id_skip=True, fused_conv=False, conv_type='depthwise'), BlockConfig(input_filters=16, output_filters=24, kernel_size=3, num_repeat=2, expand_ratio=6, strides=(2, 2), se_ratio=0.25, id_skip=True, fused_conv=False, conv_type='depthwise'), BlockConfig(input_filters=24, output_filters=40, kernel_size=5, num_repeat=2, expand_ratio=6, strides=(2, 2), se_ratio=0.25, id_skip=True, fused_conv=False, conv_type='depthwise'), BlockConfig(input_filters=40, output_filters=80, kernel_size=3, num_repeat=3, expand_ratio=6, strides=(2, 2), se_ratio=0.25, id_skip=True, fused_conv=False, conv_type='depthwise'), BlockConfig(input_filters=80, output_filters=112, kernel_size=5, num_repeat=3, expand_ratio=6, strides=(1, 1), se_ratio=0.25, id_skip=True, fused_conv=False, conv_type='depthwise'), BlockConfig(input_filters=112, output_filters=192, kernel_size=5, num_repeat=4, expand_ratio=6, strides=(2, 2), se_ratio=0.25, id_skip=True, fused_conv=False, conv_type='depthwise'), BlockConfig(input_filters=192, output_filters=320, kernel_size=3, num_repeat=1, expand_ratio=6, strides=(1, 1), se_ratio=0.25, id_skip=True, fused_conv=False, conv_type='depthwise')), stem_base_filters=32, top_base_filters=1280, activation='simple_swish', batch_norm='default', bn_momentum=0.99, bn_epsilon=0.001, weight_decay=5e-06, drop_connect_rate=0.2, depth_divisor=8, min_depth=None, use_se=True, input_channels=3, num_classes=1000, model_name='efficientnet', rescale_input=False, data_format='channels_last', dtype='float32')\n",
      "I0802 14:02:46.208396  4376 ssd_efficientnet_bifpn_feature_extractor.py:142] EfficientDet EfficientNet backbone version: efficientnet-b4\n",
      "I0802 14:02:46.208396  4376 ssd_efficientnet_bifpn_feature_extractor.py:144] EfficientDet BiFPN num filters: 224\n",
      "I0802 14:02:46.208396  4376 ssd_efficientnet_bifpn_feature_extractor.py:145] EfficientDet BiFPN num iterations: 7\n",
      "I0802 14:02:46.213396  4376 efficientnet_model.py:147] round_filter input=32 output=48\n",
      "I0802 14:02:46.241393  4376 efficientnet_model.py:147] round_filter input=32 output=48\n",
      "I0802 14:02:46.242392  4376 efficientnet_model.py:147] round_filter input=16 output=24\n",
      "I0802 14:02:46.435392  4376 efficientnet_model.py:147] round_filter input=16 output=24\n",
      "I0802 14:02:46.435392  4376 efficientnet_model.py:147] round_filter input=24 output=32\n",
      "I0802 14:02:46.954398  4376 efficientnet_model.py:147] round_filter input=24 output=32\n",
      "I0802 14:02:46.954398  4376 efficientnet_model.py:147] round_filter input=40 output=56\n",
      "I0802 14:02:47.539393  4376 efficientnet_model.py:147] round_filter input=40 output=56\n",
      "I0802 14:02:47.540394  4376 efficientnet_model.py:147] round_filter input=80 output=112\n",
      "I0802 14:02:48.364414  4376 efficientnet_model.py:147] round_filter input=80 output=112\n",
      "I0802 14:02:48.364414  4376 efficientnet_model.py:147] round_filter input=112 output=160\n",
      "I0802 14:02:49.337398  4376 efficientnet_model.py:147] round_filter input=112 output=160\n",
      "I0802 14:02:49.337398  4376 efficientnet_model.py:147] round_filter input=192 output=272"
     ]
    }
   ],
   "source": [
    "verification_script = os.path.join(paths['API_model_path'], 'research', 'object_detection', 'builders', 'model_builder_tf2_test.py')\n",
    "# verify installation and all required packages are installed\n",
    "!python {verification_script}"
   ]
  },
  {
   "cell_type": "code",
   "execution_count": 14,
   "id": "f1f4f287",
   "metadata": {},
   "outputs": [],
   "source": [
    "# import tensorflow object detection\n",
    "import object_detection"
   ]
  },
  {
   "cell_type": "code",
   "execution_count": 7,
   "id": "e19516ca",
   "metadata": {},
   "outputs": [
    {
     "name": "stdout",
     "output_type": "stream",
     "text": [
      "100% [........................................................................] 20515344 / 20515344        1 file(s) moved.\n"
     ]
    },
    {
     "name": "stderr",
     "output_type": "stream",
     "text": [
      "x ssd_mobilenet_v2_fpnlite_320x320_coco17_tpu-8/\n",
      "x ssd_mobilenet_v2_fpnlite_320x320_coco17_tpu-8/checkpoint/\n",
      "x ssd_mobilenet_v2_fpnlite_320x320_coco17_tpu-8/checkpoint/ckpt-0.data-00000-of-00001\n",
      "x ssd_mobilenet_v2_fpnlite_320x320_coco17_tpu-8/checkpoint/checkpoint\n",
      "x ssd_mobilenet_v2_fpnlite_320x320_coco17_tpu-8/checkpoint/ckpt-0.index\n",
      "x ssd_mobilenet_v2_fpnlite_320x320_coco17_tpu-8/pipeline.config\n",
      "x ssd_mobilenet_v2_fpnlite_320x320_coco17_tpu-8/saved_model/\n",
      "x ssd_mobilenet_v2_fpnlite_320x320_coco17_tpu-8/saved_model/saved_model.pb\n",
      "x ssd_mobilenet_v2_fpnlite_320x320_coco17_tpu-8/saved_model/variables/\n",
      "x ssd_mobilenet_v2_fpnlite_320x320_coco17_tpu-8/saved_model/variables/variables.data-00000-of-00001\n",
      "x ssd_mobilenet_v2_fpnlite_320x320_coco17_tpu-8/saved_model/variables/variables.index\n"
     ]
    }
   ],
   "source": [
    "# clone pretrained model\n",
    "if os.name == \"posix\":\n",
    "    !wget {pretrained_model_url}\n",
    "    !mv {pretrained_model_name+'.tar.gz'} {paths['pretrained_model_path']}\n",
    "    !cd {paths['pretrained_model_path']} && tar -zxvf {pretrained_model_name+'.tar.gz'}\n",
    "    \n",
    "if os.name == \"nt\":\n",
    "    wget.download(pretrained_model_url)\n",
    "    !move {pretrained_model_name+'.tar.gz'} {paths['pretrained_model_path']}\n",
    "    !cd {paths['pretrained_model_path']} && tar -zxvf {pretrained_model_name+'.tar.gz'}"
   ]
  },
  {
   "cell_type": "code",
   "execution_count": 43,
   "id": "fcf2491d",
   "metadata": {},
   "outputs": [
    {
     "name": "stderr",
     "output_type": "stream",
     "text": [
      "x ssd_mobilenet_v2_fpnlite_320x320_coco17_tpu-8/\n",
      "x ssd_mobilenet_v2_fpnlite_320x320_coco17_tpu-8/checkpoint/\n",
      "x ssd_mobilenet_v2_fpnlite_320x320_coco17_tpu-8/checkpoint/ckpt-0.data-00000-of-00001\n",
      "x ssd_mobilenet_v2_fpnlite_320x320_coco17_tpu-8/checkpoint/checkpoint\n",
      "x ssd_mobilenet_v2_fpnlite_320x320_coco17_tpu-8/checkpoint/ckpt-0.index\n",
      "x ssd_mobilenet_v2_fpnlite_320x320_coco17_tpu-8/pipeline.config\n",
      "x ssd_mobilenet_v2_fpnlite_320x320_coco17_tpu-8/saved_model/\n",
      "x ssd_mobilenet_v2_fpnlite_320x320_coco17_tpu-8/saved_model/saved_model.pb\n",
      "x ssd_mobilenet_v2_fpnlite_320x320_coco17_tpu-8/saved_model/variables/\n",
      "x ssd_mobilenet_v2_fpnlite_320x320_coco17_tpu-8/saved_model/variables/variables.data-00000-of-00001\n",
      "x ssd_mobilenet_v2_fpnlite_320x320_coco17_tpu-8/saved_model/variables/variables.index\n"
     ]
    }
   ],
   "source": [
    "!cd {paths['pretrained_model_path']} && tar -zxvf {pretrained_model_name+'.tar.gz'}"
   ]
  },
  {
   "cell_type": "markdown",
   "id": "f9380bff",
   "metadata": {},
   "source": [
    "**create label map**"
   ]
  },
  {
   "cell_type": "code",
   "execution_count": 8,
   "id": "b302b68a",
   "metadata": {},
   "outputs": [],
   "source": [
    "labels = [{'name':'ThumbsUp', 'id':1},{'name':'ThumbsDown', 'id':2}, {'name':'LiveLong', 'id':3}, {'name':'ThankYou', 'id':4}]\n",
    "\n",
    "with open(files['label_map'], 'w') as f:\n",
    "    for label in labels:\n",
    "        f.write('item { \\n')\n",
    "        f.write('\\tname:\\'{}\\'\\n'.format(label['name']))\n",
    "        f.write('\\tid:{}'.format(label['id']))\n",
    "        f.write('}\\n')"
   ]
  },
  {
   "cell_type": "markdown",
   "id": "713b645a",
   "metadata": {},
   "source": [
    "**create tf records**"
   ]
  },
  {
   "cell_type": "code",
   "execution_count": 35,
   "id": "951789e8",
   "metadata": {},
   "outputs": [],
   "source": [
    "# clone tf records package\n",
    "if not os.path.exists(files['tf_record_script']):\n",
    "    !git clone https://github.com/nicknochnack/GenerateTFRecord {paths['scripts_path']}"
   ]
  },
  {
   "cell_type": "code",
   "execution_count": 36,
   "id": "2c98fa93",
   "metadata": {},
   "outputs": [
    {
     "name": "stdout",
     "output_type": "stream",
     "text": [
      "Successfully created the TFRecord file: Tensorflow\\workspace\\annotations\\train.record\n",
      "Successfully created the TFRecord file: Tensorflow\\workspace\\annotations\\test.record\n"
     ]
    }
   ],
   "source": [
    "# create tf records of both train and test sets\n",
    "!python {files['tf_record_script']} -x {os.path.join(paths['image_path'], 'train')} -l {files['label_map']} -o {os.path.join(paths['annotation_path'], 'train.record')}\n",
    "!python {files['tf_record_script']} -x {os.path.join(paths['image_path'], 'test')} -l {files['label_map']} -o {os.path.join(paths['annotation_path'], 'test.record')}"
   ]
  },
  {
   "cell_type": "markdown",
   "id": "67c3d41f",
   "metadata": {},
   "source": [
    "**copy model config to training folder**"
   ]
  },
  {
   "cell_type": "code",
   "execution_count": 44,
   "id": "1a218d9e",
   "metadata": {},
   "outputs": [
    {
     "name": "stdout",
     "output_type": "stream",
     "text": [
      "        1 file(s) copied.\n"
     ]
    }
   ],
   "source": [
    "if os.name == \"posix\":\n",
    "    !cp {os.path.join(paths['pretrained_model_path'], pretrained_model_name, 'pipeline.config')} {os.path.join(paths['chechpoint_path'])}\n",
    "if os.name == \"nt\":\n",
    "    !copy {os.path.join(paths['pretrained_model_path'], pretrained_model_name, 'pipeline.config')} {os.path.join(paths['chechpoint_path'])}"
   ]
  },
  {
   "cell_type": "markdown",
   "id": "98649c99",
   "metadata": {},
   "source": [
    "**update config for current object detection (transfer learning)**"
   ]
  },
  {
   "cell_type": "code",
   "execution_count": 15,
   "id": "c5bbc2dd",
   "metadata": {},
   "outputs": [],
   "source": [
    "import tensorflow as tf\n",
    "from object_detection.utils import config_util\n",
    "from object_detection.protos import pipeline_pb2\n",
    "from google.protobuf import text_format"
   ]
  },
  {
   "cell_type": "code",
   "execution_count": 16,
   "id": "90a1e18f",
   "metadata": {},
   "outputs": [],
   "source": [
    "config = config_util.get_configs_from_pipeline_file(files['pipeline_config'])"
   ]
  },
  {
   "cell_type": "code",
   "execution_count": 49,
   "id": "e028f017",
   "metadata": {},
   "outputs": [
    {
     "data": {
      "text/plain": [
       "{'model': ssd {\n",
       "   num_classes: 4\n",
       "   image_resizer {\n",
       "     fixed_shape_resizer {\n",
       "       height: 320\n",
       "       width: 320\n",
       "     }\n",
       "   }\n",
       "   feature_extractor {\n",
       "     type: \"ssd_mobilenet_v2_fpn_keras\"\n",
       "     depth_multiplier: 1.0\n",
       "     min_depth: 16\n",
       "     conv_hyperparams {\n",
       "       regularizer {\n",
       "         l2_regularizer {\n",
       "           weight: 3.9999998989515007e-05\n",
       "         }\n",
       "       }\n",
       "       initializer {\n",
       "         random_normal_initializer {\n",
       "           mean: 0.0\n",
       "           stddev: 0.009999999776482582\n",
       "         }\n",
       "       }\n",
       "       activation: RELU_6\n",
       "       batch_norm {\n",
       "         decay: 0.996999979019165\n",
       "         scale: true\n",
       "         epsilon: 0.0010000000474974513\n",
       "       }\n",
       "     }\n",
       "     use_depthwise: true\n",
       "     override_base_feature_extractor_hyperparams: true\n",
       "     fpn {\n",
       "       min_level: 3\n",
       "       max_level: 7\n",
       "       additional_layer_depth: 128\n",
       "     }\n",
       "   }\n",
       "   box_coder {\n",
       "     faster_rcnn_box_coder {\n",
       "       y_scale: 10.0\n",
       "       x_scale: 10.0\n",
       "       height_scale: 5.0\n",
       "       width_scale: 5.0\n",
       "     }\n",
       "   }\n",
       "   matcher {\n",
       "     argmax_matcher {\n",
       "       matched_threshold: 0.5\n",
       "       unmatched_threshold: 0.5\n",
       "       ignore_thresholds: false\n",
       "       negatives_lower_than_unmatched: true\n",
       "       force_match_for_each_row: true\n",
       "       use_matmul_gather: true\n",
       "     }\n",
       "   }\n",
       "   similarity_calculator {\n",
       "     iou_similarity {\n",
       "     }\n",
       "   }\n",
       "   box_predictor {\n",
       "     weight_shared_convolutional_box_predictor {\n",
       "       conv_hyperparams {\n",
       "         regularizer {\n",
       "           l2_regularizer {\n",
       "             weight: 3.9999998989515007e-05\n",
       "           }\n",
       "         }\n",
       "         initializer {\n",
       "           random_normal_initializer {\n",
       "             mean: 0.0\n",
       "             stddev: 0.009999999776482582\n",
       "           }\n",
       "         }\n",
       "         activation: RELU_6\n",
       "         batch_norm {\n",
       "           decay: 0.996999979019165\n",
       "           scale: true\n",
       "           epsilon: 0.0010000000474974513\n",
       "         }\n",
       "       }\n",
       "       depth: 128\n",
       "       num_layers_before_predictor: 4\n",
       "       kernel_size: 3\n",
       "       class_prediction_bias_init: -4.599999904632568\n",
       "       share_prediction_tower: true\n",
       "       use_depthwise: true\n",
       "     }\n",
       "   }\n",
       "   anchor_generator {\n",
       "     multiscale_anchor_generator {\n",
       "       min_level: 3\n",
       "       max_level: 7\n",
       "       anchor_scale: 4.0\n",
       "       aspect_ratios: 1.0\n",
       "       aspect_ratios: 2.0\n",
       "       aspect_ratios: 0.5\n",
       "       scales_per_octave: 2\n",
       "     }\n",
       "   }\n",
       "   post_processing {\n",
       "     batch_non_max_suppression {\n",
       "       score_threshold: 9.99999993922529e-09\n",
       "       iou_threshold: 0.6000000238418579\n",
       "       max_detections_per_class: 100\n",
       "       max_total_detections: 100\n",
       "       use_static_shapes: false\n",
       "     }\n",
       "     score_converter: SIGMOID\n",
       "   }\n",
       "   normalize_loss_by_num_matches: true\n",
       "   loss {\n",
       "     localization_loss {\n",
       "       weighted_smooth_l1 {\n",
       "       }\n",
       "     }\n",
       "     classification_loss {\n",
       "       weighted_sigmoid_focal {\n",
       "         gamma: 2.0\n",
       "         alpha: 0.25\n",
       "       }\n",
       "     }\n",
       "     classification_weight: 1.0\n",
       "     localization_weight: 1.0\n",
       "   }\n",
       "   encode_background_as_zeros: true\n",
       "   normalize_loc_loss_by_codesize: true\n",
       "   inplace_batchnorm_update: true\n",
       "   freeze_batchnorm: false\n",
       " },\n",
       " 'train_config': batch_size: 4\n",
       " data_augmentation_options {\n",
       "   random_horizontal_flip {\n",
       "   }\n",
       " }\n",
       " data_augmentation_options {\n",
       "   random_crop_image {\n",
       "     min_object_covered: 0.0\n",
       "     min_aspect_ratio: 0.75\n",
       "     max_aspect_ratio: 3.0\n",
       "     min_area: 0.75\n",
       "     max_area: 1.0\n",
       "     overlap_thresh: 0.0\n",
       "   }\n",
       " }\n",
       " sync_replicas: true\n",
       " optimizer {\n",
       "   momentum_optimizer {\n",
       "     learning_rate {\n",
       "       cosine_decay_learning_rate {\n",
       "         learning_rate_base: 0.07999999821186066\n",
       "         total_steps: 50000\n",
       "         warmup_learning_rate: 0.026666000485420227\n",
       "         warmup_steps: 1000\n",
       "       }\n",
       "     }\n",
       "     momentum_optimizer_value: 0.8999999761581421\n",
       "   }\n",
       "   use_moving_average: false\n",
       " }\n",
       " fine_tune_checkpoint: \"Tensorflow\\\\workspace\\\\pre-trained-models\\\\ssd_mobilenet_v2_fpnlite_320x320_coco17_tpu-8\\\\checkpoint\\\\ckpt-0\"\n",
       " num_steps: 50000\n",
       " startup_delay_steps: 0.0\n",
       " replicas_to_aggregate: 8\n",
       " max_number_of_boxes: 100\n",
       " unpad_groundtruth_tensors: false\n",
       " fine_tune_checkpoint_type: \"detection\"\n",
       " fine_tune_checkpoint_version: V2,\n",
       " 'train_input_config': label_map_path: \"Tensorflow\\\\workspace\\\\annotations\\\\label_map.pbtxt\"\n",
       " tf_record_input_reader {\n",
       "   input_path: \"Tensorflow\\\\workspace\\\\annotations\\\\train.record\"\n",
       " },\n",
       " 'eval_config': metrics_set: \"coco_detection_metrics\"\n",
       " use_moving_averages: false,\n",
       " 'eval_input_configs': [label_map_path: \"Tensorflow\\\\workspace\\\\annotations\\\\label_map.pbtxt\"\n",
       " shuffle: false\n",
       " num_epochs: 1\n",
       " tf_record_input_reader {\n",
       "   input_path: \"Tensorflow\\\\workspace\\\\annotations\\\\test.record\"\n",
       " }\n",
       " ],\n",
       " 'eval_input_config': label_map_path: \"Tensorflow\\\\workspace\\\\annotations\\\\label_map.pbtxt\"\n",
       " shuffle: false\n",
       " num_epochs: 1\n",
       " tf_record_input_reader {\n",
       "   input_path: \"Tensorflow\\\\workspace\\\\annotations\\\\test.record\"\n",
       " }}"
      ]
     },
     "execution_count": 49,
     "metadata": {},
     "output_type": "execute_result"
    }
   ],
   "source": [
    "config"
   ]
  },
  {
   "cell_type": "code",
   "execution_count": 45,
   "id": "4be5c473",
   "metadata": {},
   "outputs": [],
   "source": [
    "# create pipeline config file\n",
    "pipeline_config = pipeline_pb2.TrainEvalPipelineConfig()\n",
    "# change the format to current pretrained pipeline format\n",
    "with tf.io.gfile.GFile(files['pipeline_config'], 'r') as f:\n",
    "    proto_str = f.read()\n",
    "    text_format.Merge(proto_str, pipeline_config)"
   ]
  },
  {
   "cell_type": "code",
   "execution_count": 46,
   "id": "818e8075",
   "metadata": {},
   "outputs": [],
   "source": [
    "# modify pipeline configuration for the required task\n",
    "pipeline_config.model.ssd.num_classes = len(labels)\n",
    "pipeline_config.train_config.batch_size = 4\n",
    "pipeline_config.train_config.fine_tune_checkpoint = os.path.join(paths['pretrained_model_path'], pretrained_model_name, 'checkpoint', 'ckpt-0')\n",
    "pipeline_config.train_config.fine_tune_checkpoint_type = 'detection'\n",
    "pipeline_config.train_input_reader.label_map_path = files['label_map']\n",
    "pipeline_config.train_input_reader.tf_record_input_reader.input_path[:] = [os.path.join(paths['annotation_path'], 'train.record')]\n",
    "pipeline_config.eval_input_reader[0].label_map_path = files['label_map']\n",
    "pipeline_config.eval_input_reader[0].tf_record_input_reader.input_path[:] = [os.path.join(paths['annotation_path'], 'test.record')]\n"
   ]
  },
  {
   "cell_type": "code",
   "execution_count": 47,
   "id": "eaa65bbf",
   "metadata": {},
   "outputs": [],
   "source": [
    "# apply modification to pretrained pipeline config\n",
    "config_text = text_format.MessageToString(pipeline_config)\n",
    "with tf.io.gfile.GFile(files['pipeline_config'], 'wb') as f:\n",
    "    f.write(config_text)"
   ]
  },
  {
   "cell_type": "markdown",
   "id": "d7385671",
   "metadata": {},
   "source": [
    "**train the model**"
   ]
  },
  {
   "cell_type": "code",
   "execution_count": null,
   "id": "fd2c50da",
   "metadata": {},
   "outputs": [],
   "source": [
    "# os.environ[\"CUDA_VISIBLE_DEVICES\"] = \"-1\" to train on CPU\n",
    "from tensorflow.python.client import device_lib\n",
    "device_lib.list_local_devices()"
   ]
  },
  {
   "cell_type": "code",
   "execution_count": 6,
   "id": "0111e5a1",
   "metadata": {},
   "outputs": [
    {
     "name": "stdout",
     "output_type": "stream",
     "text": [
      "python Tensorflow\\models\\research\\object_detection\\model_main_tf2.py --model_dir=Tensorflow\\workspace\\models\\my_ssd_mobnet --pipeline_config_path=Tensorflow\\workspace\\models\\my_ssd_mobnet\\pipeline.config --num_train_steps=100\n"
     ]
    }
   ],
   "source": [
    "training_script = os.path.join(paths['API_model_path'], 'research', 'object_detection', 'model_main_tf2.py')\n",
    "train_command = \"python {} --model_dir={} --pipeline_config_path={} --num_train_steps=100\".format(training_script, paths['chechpoint_path'], files['pipeline_config'])\n",
    "print(train_command)"
   ]
  },
  {
   "cell_type": "code",
   "execution_count": null,
   "id": "1c177ea1",
   "metadata": {},
   "outputs": [],
   "source": [
    "!{train_command}"
   ]
  },
  {
   "cell_type": "markdown",
   "id": "8a11652c",
   "metadata": {},
   "source": [
    "**evaluate the model**"
   ]
  },
  {
   "cell_type": "code",
   "execution_count": 7,
   "id": "0ea59116",
   "metadata": {},
   "outputs": [
    {
     "name": "stdout",
     "output_type": "stream",
     "text": [
      "python Tensorflow\\models\\research\\object_detection\\model_main_tf2.py --model_dir=Tensorflow\\workspace\\models\\my_ssd_mobnet --pipeline_config_path=Tensorflow\\workspace\\models\\my_ssd_mobnet\\pipeline.config --chechpoint_dir=Tensorflow\\workspace\\models\\my_ssd_mobnet\n"
     ]
    }
   ],
   "source": [
    "eval_command = \"python {} --model_dir={} --pipeline_config_path={} --chechpoint_dir={}\".format(training_script, paths['chechpoint_path'], files['pipeline_config'], paths['chechpoint_path'])\n",
    "print(eval_command)"
   ]
  },
  {
   "cell_type": "code",
   "execution_count": null,
   "id": "b7247634",
   "metadata": {},
   "outputs": [],
   "source": [
    "!{eval_command}"
   ]
  },
  {
   "cell_type": "markdown",
   "id": "e02ae8d3",
   "metadata": {},
   "source": [
    "**TensorBoard**"
   ]
  },
  {
   "cell_type": "code",
   "execution_count": 9,
   "id": "76f0f6f1",
   "metadata": {},
   "outputs": [
    {
     "name": "stdout",
     "output_type": "stream",
     "text": [
      "^C\n"
     ]
    }
   ],
   "source": [
    "!cd {os.path.join(paths['chechpoint_path'], 'eval')} && tensorboard --logdir=."
   ]
  },
  {
   "cell_type": "markdown",
   "id": "dae15db8",
   "metadata": {},
   "source": [
    "**load model from checkpoint**"
   ]
  },
  {
   "cell_type": "code",
   "execution_count": 17,
   "id": "e2839f8c",
   "metadata": {},
   "outputs": [],
   "source": [
    "import os\n",
    "import tensorflow as tf\n",
    "from object_detection.utils import label_map_util\n",
    "from object_detection.utils import visualization_utils as viz_utils\n",
    "from object_detection.builders import model_builder\n",
    "from object_detection.utils import config_util"
   ]
  },
  {
   "cell_type": "code",
   "execution_count": 21,
   "id": "8313ae85",
   "metadata": {},
   "outputs": [],
   "source": [
    "# load pipeline and build detection model\n",
    "configs = config_util.get_configs_from_pipeline_file(files['pipeline_config'])\n",
    "detection_model = model_builder.build(model_config=configs['model'], is_training=False)\n",
    "\n",
    "# restore checkpoint\n",
    "ckpt = tf.compat.v2.train.Checkpoint(model=detection_model)\n",
    "ckpt.restore(os.path.join(paths['chechpoint_path'], 'ckpt-4')).expect_partial()\n",
    "\n",
    "# create detection function\n",
    "@tf.function\n",
    "def detect_fn(image):\n",
    "    image, shapes = detection_model.preprocess(image)\n",
    "    prediction_dict = detection_model.predict(image, shapes)\n",
    "    detections = detection_model.postprocess(prediction_dict, shapes)\n",
    "    return detections"
   ]
  },
  {
   "cell_type": "markdown",
   "id": "066fd578",
   "metadata": {},
   "source": [
    "**detect from an image**"
   ]
  },
  {
   "cell_type": "code",
   "execution_count": 22,
   "id": "4ce57dbf",
   "metadata": {},
   "outputs": [],
   "source": [
    "import cv2\n",
    "import numpy as np\n",
    "from matplotlib import pyplot as plt\n",
    "%matplotlib inline"
   ]
  },
  {
   "cell_type": "code",
   "execution_count": 23,
   "id": "b46353fe",
   "metadata": {},
   "outputs": [],
   "source": [
    "category_index = label_map_util.create_category_index_from_labelmap(files['label_map'])"
   ]
  },
  {
   "cell_type": "code",
   "execution_count": 32,
   "id": "d20c3df9",
   "metadata": {},
   "outputs": [],
   "source": [
    "image_path = os.path.join(paths['image_path'], 'test', 'thumbsup.fcfe6974-f135-11eb-99c0-fcf8aec479cf.jpg')"
   ]
  },
  {
   "cell_type": "code",
   "execution_count": 47,
   "id": "22933afc",
   "metadata": {},
   "outputs": [
    {
     "name": "stdout",
     "output_type": "stream",
     "text": [
      "tf.Tensor(\n",
      "[[[0.55467594 0.12547599 0.9810759  0.45505804]\n",
      "  [0.54040074 0.11930551 0.9780624  0.38426352]\n",
      "  [0.8520589  0.37137356 0.9903277  0.90463436]\n",
      "  [0.6836269  0.47060394 0.98321044 1.        ]\n",
      "  [0.04315689 0.08071655 0.5396838  0.9105957 ]\n",
      "  [0.93767333 0.60332036 1.         0.85754836]\n",
      "  [0.85623425 0.05963668 0.98730713 0.58092785]\n",
      "  [0.7926356  0.55812895 0.9812171  1.        ]\n",
      "  [0.9366643  0.6687046  0.99943846 0.94520843]\n",
      "  [0.60555744 0.32759616 0.6978235  0.5480511 ]\n",
      "  [0.6733974  0.14151913 1.         0.8914408 ]\n",
      "  [0.59865004 0.1348469  0.99082965 0.48863158]\n",
      "  [0.9320932  0.8072614  1.         1.        ]\n",
      "  [0.8534235  0.1801104  0.9938836  0.70190895]\n",
      "  [0.63256633 0.32514313 0.71246195 0.5544774 ]\n",
      "  [0.6006402  0.60231686 0.98191106 0.86248624]\n",
      "  [0.9556166  0.6553222  0.9996885  0.8595811 ]\n",
      "  [0.6161479  0.68532    0.99614644 1.        ]\n",
      "  [0.95545596 0.7104103  0.9981682  0.90995985]\n",
      "  [0.8767206  0.67729235 1.         0.84087837]\n",
      "  [0.5915663  0.11616218 0.9947665  0.3905965 ]\n",
      "  [0.8118851  0.0196864  0.9661242  0.51333   ]\n",
      "  [0.68195724 0.6613475  1.         1.        ]\n",
      "  [0.7580401  0.4642344  1.         0.8948539 ]\n",
      "  [0.68810487 0.5603137  1.         0.8387191 ]\n",
      "  [0.868224   0.6430658  1.         0.7949952 ]\n",
      "  [0.61650455 0.2835244  0.98208    0.99194133]\n",
      "  [0.65230465 0.16157135 0.95440245 0.33977905]\n",
      "  [0.27637377 0.         1.         1.        ]\n",
      "  [0.84165806 0.         0.9974449  0.42498645]\n",
      "  [0.71005344 0.12873544 1.         0.36535418]\n",
      "  [0.9527122  0.61094904 1.         0.79282916]\n",
      "  [0.86951804 0.75936717 1.         0.9226956 ]\n",
      "  [0.5810118  0.02746788 0.9463798  0.6318345 ]\n",
      "  [0.5970286  0.7520984  1.         1.        ]\n",
      "  [0.95347744 0.76265633 0.99829537 0.95852876]\n",
      "  [0.9569553  0.34545258 1.         0.5287349 ]\n",
      "  [0.69556797 0.06073764 0.9989419  0.44673058]\n",
      "  [0.95590335 0.27578926 1.         0.44742972]\n",
      "  [0.868224   0.6430658  1.         0.7949952 ]\n",
      "  [0.5722287  0.12764587 0.98317677 0.38007426]\n",
      "  [0.5658893  0.33572856 0.68658346 0.5378047 ]\n",
      "  [0.58200985 0.35271338 0.71100456 0.511286  ]\n",
      "  [0.9543426  0.8413725  1.         1.        ]\n",
      "  [0.6309777  0.63361055 0.98918754 0.9644101 ]\n",
      "  [0.         0.1805709  0.556414   0.88006705]\n",
      "  [0.7227769  0.61191094 1.         0.825367  ]\n",
      "  [0.5745033  0.5825542  0.9633875  0.8368579 ]\n",
      "  [0.8723819  0.8289478  1.         0.9978703 ]\n",
      "  [0.9256746  0.57160497 1.         0.7951716 ]\n",
      "  [0.95677865 0.39465374 1.         0.5845293 ]\n",
      "  [0.9217014  0.22670197 1.         0.44394577]\n",
      "  [0.77529365 0.07921313 1.         0.51557297]\n",
      "  [0.3101402  0.08100812 0.9202818  0.45501405]\n",
      "  [0.8414398  0.47368196 0.9323068  0.6815848 ]\n",
      "  [0.8577277  0.29249996 1.         0.4290461 ]\n",
      "  [0.8311462  0.6998819  0.9843945  1.        ]\n",
      "  [0.92428297 0.4229589  1.         0.66112155]\n",
      "  [0.60998166 0.09064454 0.87203825 0.41161448]\n",
      "  [0.5583148  0.         0.9668281  0.4883908 ]\n",
      "  [0.6903029  0.3616377  0.977948   0.9863801 ]\n",
      "  [0.8538894  0.5043113  0.9884631  1.        ]\n",
      "  [0.56402886 0.05426714 0.9493146  0.4509819 ]\n",
      "  [0.84061813 0.3275071  1.         0.50587916]\n",
      "  [0.93350255 0.29210758 1.         0.52429765]\n",
      "  [0.7958025  0.35606492 1.         0.81407285]\n",
      "  [0.5215741  0.57690966 1.         0.9943706 ]\n",
      "  [0.73345095 0.21850446 1.         0.56510735]\n",
      "  [0.9084224  0.13900739 1.         0.5468505 ]\n",
      "  [0.7298403  0.79812855 0.96045375 1.        ]\n",
      "  [0.8573216  0.505269   0.92004275 0.6723272 ]\n",
      "  [0.5970286  0.7520984  1.         1.        ]\n",
      "  [0.9317091  0.36309922 1.         0.61489075]\n",
      "  [0.9541163  0.22709256 1.         0.40762722]\n",
      "  [0.868224   0.6430658  1.         0.7949952 ]\n",
      "  [0.89493465 0.69144124 1.         0.90684897]\n",
      "  [0.9119316  0.6376293  0.99594945 1.        ]\n",
      "  [0.85740983 0.6036225  1.         0.74895865]\n",
      "  [0.5867377  0.42028576 0.69365853 0.51672244]\n",
      "  [0.67309624 0.2136038  0.9876601  0.85246676]\n",
      "  [0.6611569  0.6303172  0.949939   0.79458725]\n",
      "  [0.67149776 0.57044494 1.         0.87717927]\n",
      "  [0.5790079  0.10821906 0.9243259  0.5901449 ]\n",
      "  [0.         0.         0.4941421  0.24140921]\n",
      "  [0.9107701  0.54880023 0.9932912  0.89464927]\n",
      "  [0.6182078  0.36968026 0.7259666  0.52697885]\n",
      "  [0.04315689 0.08071655 0.5396838  0.9105957 ]\n",
      "  [0.863825   0.33905706 1.         0.48189953]\n",
      "  [0.95536125 0.4524213  1.         0.6234596 ]\n",
      "  [0.5995657  0.         1.         0.53062433]\n",
      "  [0.80169606 0.791659   0.9932591  1.        ]\n",
      "  [0.         0.         1.         0.99038005]\n",
      "  [0.6768514  0.58988726 1.         0.95899296]\n",
      "  [0.81974775 0.45105183 0.91004497 0.67730725]\n",
      "  [0.         0.15849134 1.         1.        ]\n",
      "  [0.9427651  0.7360968  1.         0.99400026]\n",
      "  [0.85652393 0.4732929  0.9710987  0.67094535]\n",
      "  [0.8767206  0.67729235 1.         0.84087837]\n",
      "  [0.61107427 0.4296713  0.9413814  0.92015433]\n",
      "  [0.03805745 0.         0.48633164 0.34658083]]], shape=(1, 100, 4), dtype=float32)\n",
      "[[0.55467594 0.12547599 0.9810759  0.45505804]\n",
      " [0.54040074 0.11930551 0.9780624  0.38426352]]\n",
      "tf.Tensor(\n",
      "[[0.5270692  0.39607    0.29674497 0.27858862 0.27222422 0.25563958\n",
      "  0.21520181 0.20162883 0.18833065 0.18070567 0.17243354 0.17219777\n",
      "  0.16386297 0.163123   0.15915719 0.15616539 0.15560336 0.15047203\n",
      "  0.14060163 0.13655894 0.13475856 0.13345966 0.12834859 0.12580203\n",
      "  0.12249114 0.12089161 0.11464307 0.11235388 0.10899148 0.10700478\n",
      "  0.10666224 0.10575632 0.10568991 0.10413858 0.099874   0.09835976\n",
      "  0.09653536 0.0903735  0.0899203  0.08885602 0.08840151 0.08817895\n",
      "  0.0872064  0.08680116 0.08520509 0.08518328 0.08246817 0.08220392\n",
      "  0.08219112 0.08193795 0.0816649  0.08106647 0.07894589 0.07815772\n",
      "  0.07668225 0.07659656 0.07575531 0.07452029 0.07424507 0.0731298\n",
      "  0.07220541 0.07200368 0.07084099 0.07045496 0.07013875 0.06999788\n",
      "  0.06863206 0.06728632 0.0669565  0.06625088 0.06615731 0.0647678\n",
      "  0.06437115 0.06389975 0.06327666 0.06291914 0.06288362 0.06280824\n",
      "  0.06173998 0.06061408 0.06037573 0.05872602 0.05863486 0.05808311\n",
      "  0.05777661 0.05702061 0.05575663 0.05566074 0.05557891 0.05546301\n",
      "  0.0554359  0.0551212  0.05504685 0.05501392 0.05462823 0.05452196\n",
      "  0.05438185 0.05416464 0.05411357 0.05330735]], shape=(1, 100), dtype=float32)\n",
      "[0.5270692 0.39607  ]\n",
      "tf.Tensor(\n",
      "[[0. 1. 3. 3. 3. 3. 3. 3. 3. 3. 3. 1. 3. 3. 3. 1. 3. 1. 3. 3. 3. 3. 3. 3.\n",
      "  3. 3. 3. 1. 3. 3. 1. 3. 3. 0. 2. 3. 3. 3. 3. 1. 2. 3. 3. 3. 3. 2. 1. 2.\n",
      "  3. 3. 3. 3. 3. 0. 3. 1. 3. 3. 0. 0. 0. 3. 3. 1. 3. 3. 3. 3. 3. 1. 3. 3.\n",
      "  3. 3. 2. 3. 3. 3. 1. 0. 1. 2. 3. 2. 3. 3. 0. 3. 3. 3. 1. 2. 1. 3. 1. 3.\n",
      "  3. 1. 0. 1.]], shape=(1, 100), dtype=float32)\n",
      "[0. 1.]\n",
      "tf.Tensor([100.], shape=(1,), dtype=float32)\n"
     ]
    },
    {
     "ename": "InvalidArgumentError",
     "evalue": "Index out of range using input dim 1; input has only 1 dims [Op:StridedSlice] name: strided_slice/",
     "output_type": "error",
     "traceback": [
      "\u001b[1;31m---------------------------------------------------------------------------\u001b[0m",
      "\u001b[1;31mInvalidArgumentError\u001b[0m                      Traceback (most recent call last)",
      "\u001b[1;32m~\\AppData\\Local\\Temp/ipykernel_26436/1402044328.py\u001b[0m in \u001b[0;36m<module>\u001b[1;34m\u001b[0m\n\u001b[0;32m      5\u001b[0m \u001b[1;32mfor\u001b[0m \u001b[0mkey\u001b[0m\u001b[1;33m,\u001b[0m \u001b[0mvalue\u001b[0m \u001b[1;32min\u001b[0m \u001b[0mdetections\u001b[0m\u001b[1;33m.\u001b[0m\u001b[0mitems\u001b[0m\u001b[1;33m(\u001b[0m\u001b[1;33m)\u001b[0m\u001b[1;33m:\u001b[0m\u001b[1;33m\u001b[0m\u001b[1;33m\u001b[0m\u001b[0m\n\u001b[0;32m      6\u001b[0m     \u001b[0mprint\u001b[0m\u001b[1;33m(\u001b[0m\u001b[0mvalue\u001b[0m\u001b[1;33m)\u001b[0m\u001b[1;33m\u001b[0m\u001b[1;33m\u001b[0m\u001b[0m\n\u001b[1;32m----> 7\u001b[1;33m     \u001b[0mprint\u001b[0m\u001b[1;33m(\u001b[0m\u001b[0mvalue\u001b[0m\u001b[1;33m[\u001b[0m\u001b[1;36m0\u001b[0m\u001b[1;33m,\u001b[0m \u001b[1;33m:\u001b[0m\u001b[1;36m2\u001b[0m\u001b[1;33m]\u001b[0m\u001b[1;33m.\u001b[0m\u001b[0mnumpy\u001b[0m\u001b[1;33m(\u001b[0m\u001b[1;33m)\u001b[0m\u001b[1;33m)\u001b[0m\u001b[1;33m\u001b[0m\u001b[1;33m\u001b[0m\u001b[0m\n\u001b[0m",
      "\u001b[1;32m~\\Desktop\\object_detection\\TFODCourse\\tfod\\lib\\site-packages\\tensorflow\\python\\util\\dispatch.py\u001b[0m in \u001b[0;36mwrapper\u001b[1;34m(*args, **kwargs)\u001b[0m\n\u001b[0;32m    199\u001b[0m     \u001b[1;34m\"\"\"Call target, and fall back on dispatchers if there is a TypeError.\"\"\"\u001b[0m\u001b[1;33m\u001b[0m\u001b[1;33m\u001b[0m\u001b[0m\n\u001b[0;32m    200\u001b[0m     \u001b[1;32mtry\u001b[0m\u001b[1;33m:\u001b[0m\u001b[1;33m\u001b[0m\u001b[1;33m\u001b[0m\u001b[0m\n\u001b[1;32m--> 201\u001b[1;33m       \u001b[1;32mreturn\u001b[0m \u001b[0mtarget\u001b[0m\u001b[1;33m(\u001b[0m\u001b[1;33m*\u001b[0m\u001b[0margs\u001b[0m\u001b[1;33m,\u001b[0m \u001b[1;33m**\u001b[0m\u001b[0mkwargs\u001b[0m\u001b[1;33m)\u001b[0m\u001b[1;33m\u001b[0m\u001b[1;33m\u001b[0m\u001b[0m\n\u001b[0m\u001b[0;32m    202\u001b[0m     \u001b[1;32mexcept\u001b[0m \u001b[1;33m(\u001b[0m\u001b[0mTypeError\u001b[0m\u001b[1;33m,\u001b[0m \u001b[0mValueError\u001b[0m\u001b[1;33m)\u001b[0m\u001b[1;33m:\u001b[0m\u001b[1;33m\u001b[0m\u001b[1;33m\u001b[0m\u001b[0m\n\u001b[0;32m    203\u001b[0m       \u001b[1;31m# Note: convert_to_eager_tensor currently raises a ValueError, not a\u001b[0m\u001b[1;33m\u001b[0m\u001b[1;33m\u001b[0m\u001b[1;33m\u001b[0m\u001b[0m\n",
      "\u001b[1;32m~\\Desktop\\object_detection\\TFODCourse\\tfod\\lib\\site-packages\\tensorflow\\python\\ops\\array_ops.py\u001b[0m in \u001b[0;36m_slice_helper\u001b[1;34m(tensor, slice_spec, var)\u001b[0m\n\u001b[0;32m   1011\u001b[0m       \u001b[0mvar_empty\u001b[0m \u001b[1;33m=\u001b[0m \u001b[0mconstant\u001b[0m\u001b[1;33m(\u001b[0m\u001b[1;33m[\u001b[0m\u001b[1;33m]\u001b[0m\u001b[1;33m,\u001b[0m \u001b[0mdtype\u001b[0m\u001b[1;33m=\u001b[0m\u001b[0mdtypes\u001b[0m\u001b[1;33m.\u001b[0m\u001b[0mint32\u001b[0m\u001b[1;33m)\u001b[0m\u001b[1;33m\u001b[0m\u001b[1;33m\u001b[0m\u001b[0m\n\u001b[0;32m   1012\u001b[0m       \u001b[0mpacked_begin\u001b[0m \u001b[1;33m=\u001b[0m \u001b[0mpacked_end\u001b[0m \u001b[1;33m=\u001b[0m \u001b[0mpacked_strides\u001b[0m \u001b[1;33m=\u001b[0m \u001b[0mvar_empty\u001b[0m\u001b[1;33m\u001b[0m\u001b[1;33m\u001b[0m\u001b[0m\n\u001b[1;32m-> 1013\u001b[1;33m     return strided_slice(\n\u001b[0m\u001b[0;32m   1014\u001b[0m         \u001b[0mtensor\u001b[0m\u001b[1;33m,\u001b[0m\u001b[1;33m\u001b[0m\u001b[1;33m\u001b[0m\u001b[0m\n\u001b[0;32m   1015\u001b[0m         \u001b[0mpacked_begin\u001b[0m\u001b[1;33m,\u001b[0m\u001b[1;33m\u001b[0m\u001b[1;33m\u001b[0m\u001b[0m\n",
      "\u001b[1;32m~\\Desktop\\object_detection\\TFODCourse\\tfod\\lib\\site-packages\\tensorflow\\python\\util\\dispatch.py\u001b[0m in \u001b[0;36mwrapper\u001b[1;34m(*args, **kwargs)\u001b[0m\n\u001b[0;32m    199\u001b[0m     \u001b[1;34m\"\"\"Call target, and fall back on dispatchers if there is a TypeError.\"\"\"\u001b[0m\u001b[1;33m\u001b[0m\u001b[1;33m\u001b[0m\u001b[0m\n\u001b[0;32m    200\u001b[0m     \u001b[1;32mtry\u001b[0m\u001b[1;33m:\u001b[0m\u001b[1;33m\u001b[0m\u001b[1;33m\u001b[0m\u001b[0m\n\u001b[1;32m--> 201\u001b[1;33m       \u001b[1;32mreturn\u001b[0m \u001b[0mtarget\u001b[0m\u001b[1;33m(\u001b[0m\u001b[1;33m*\u001b[0m\u001b[0margs\u001b[0m\u001b[1;33m,\u001b[0m \u001b[1;33m**\u001b[0m\u001b[0mkwargs\u001b[0m\u001b[1;33m)\u001b[0m\u001b[1;33m\u001b[0m\u001b[1;33m\u001b[0m\u001b[0m\n\u001b[0m\u001b[0;32m    202\u001b[0m     \u001b[1;32mexcept\u001b[0m \u001b[1;33m(\u001b[0m\u001b[0mTypeError\u001b[0m\u001b[1;33m,\u001b[0m \u001b[0mValueError\u001b[0m\u001b[1;33m)\u001b[0m\u001b[1;33m:\u001b[0m\u001b[1;33m\u001b[0m\u001b[1;33m\u001b[0m\u001b[0m\n\u001b[0;32m    203\u001b[0m       \u001b[1;31m# Note: convert_to_eager_tensor currently raises a ValueError, not a\u001b[0m\u001b[1;33m\u001b[0m\u001b[1;33m\u001b[0m\u001b[1;33m\u001b[0m\u001b[0m\n",
      "\u001b[1;32m~\\Desktop\\object_detection\\TFODCourse\\tfod\\lib\\site-packages\\tensorflow\\python\\ops\\array_ops.py\u001b[0m in \u001b[0;36mstrided_slice\u001b[1;34m(input_, begin, end, strides, begin_mask, end_mask, ellipsis_mask, new_axis_mask, shrink_axis_mask, var, name)\u001b[0m\n\u001b[0;32m   1184\u001b[0m     \u001b[0mstrides\u001b[0m \u001b[1;33m=\u001b[0m \u001b[0mones_like\u001b[0m\u001b[1;33m(\u001b[0m\u001b[0mbegin\u001b[0m\u001b[1;33m)\u001b[0m\u001b[1;33m\u001b[0m\u001b[1;33m\u001b[0m\u001b[0m\n\u001b[0;32m   1185\u001b[0m \u001b[1;33m\u001b[0m\u001b[0m\n\u001b[1;32m-> 1186\u001b[1;33m   op = gen_array_ops.strided_slice(\n\u001b[0m\u001b[0;32m   1187\u001b[0m       \u001b[0minput\u001b[0m\u001b[1;33m=\u001b[0m\u001b[0minput_\u001b[0m\u001b[1;33m,\u001b[0m\u001b[1;33m\u001b[0m\u001b[1;33m\u001b[0m\u001b[0m\n\u001b[0;32m   1188\u001b[0m       \u001b[0mbegin\u001b[0m\u001b[1;33m=\u001b[0m\u001b[0mbegin\u001b[0m\u001b[1;33m,\u001b[0m\u001b[1;33m\u001b[0m\u001b[1;33m\u001b[0m\u001b[0m\n",
      "\u001b[1;32m~\\Desktop\\object_detection\\TFODCourse\\tfod\\lib\\site-packages\\tensorflow\\python\\ops\\gen_array_ops.py\u001b[0m in \u001b[0;36mstrided_slice\u001b[1;34m(input, begin, end, strides, begin_mask, end_mask, ellipsis_mask, new_axis_mask, shrink_axis_mask, name)\u001b[0m\n\u001b[0;32m  10318\u001b[0m       \u001b[1;32mreturn\u001b[0m \u001b[0m_result\u001b[0m\u001b[1;33m\u001b[0m\u001b[1;33m\u001b[0m\u001b[0m\n\u001b[0;32m  10319\u001b[0m     \u001b[1;32mexcept\u001b[0m \u001b[0m_core\u001b[0m\u001b[1;33m.\u001b[0m\u001b[0m_NotOkStatusException\u001b[0m \u001b[1;32mas\u001b[0m \u001b[0me\u001b[0m\u001b[1;33m:\u001b[0m\u001b[1;33m\u001b[0m\u001b[1;33m\u001b[0m\u001b[0m\n\u001b[1;32m> 10320\u001b[1;33m       \u001b[0m_ops\u001b[0m\u001b[1;33m.\u001b[0m\u001b[0mraise_from_not_ok_status\u001b[0m\u001b[1;33m(\u001b[0m\u001b[0me\u001b[0m\u001b[1;33m,\u001b[0m \u001b[0mname\u001b[0m\u001b[1;33m)\u001b[0m\u001b[1;33m\u001b[0m\u001b[1;33m\u001b[0m\u001b[0m\n\u001b[0m\u001b[0;32m  10321\u001b[0m     \u001b[1;32mexcept\u001b[0m \u001b[0m_core\u001b[0m\u001b[1;33m.\u001b[0m\u001b[0m_FallbackException\u001b[0m\u001b[1;33m:\u001b[0m\u001b[1;33m\u001b[0m\u001b[1;33m\u001b[0m\u001b[0m\n\u001b[0;32m  10322\u001b[0m       \u001b[1;32mpass\u001b[0m\u001b[1;33m\u001b[0m\u001b[1;33m\u001b[0m\u001b[0m\n",
      "\u001b[1;32m~\\Desktop\\object_detection\\TFODCourse\\tfod\\lib\\site-packages\\tensorflow\\python\\framework\\ops.py\u001b[0m in \u001b[0;36mraise_from_not_ok_status\u001b[1;34m(e, name)\u001b[0m\n\u001b[0;32m   6841\u001b[0m   \u001b[0mmessage\u001b[0m \u001b[1;33m=\u001b[0m \u001b[0me\u001b[0m\u001b[1;33m.\u001b[0m\u001b[0mmessage\u001b[0m \u001b[1;33m+\u001b[0m \u001b[1;33m(\u001b[0m\u001b[1;34m\" name: \"\u001b[0m \u001b[1;33m+\u001b[0m \u001b[0mname\u001b[0m \u001b[1;32mif\u001b[0m \u001b[0mname\u001b[0m \u001b[1;32mis\u001b[0m \u001b[1;32mnot\u001b[0m \u001b[1;32mNone\u001b[0m \u001b[1;32melse\u001b[0m \u001b[1;34m\"\"\u001b[0m\u001b[1;33m)\u001b[0m\u001b[1;33m\u001b[0m\u001b[1;33m\u001b[0m\u001b[0m\n\u001b[0;32m   6842\u001b[0m   \u001b[1;31m# pylint: disable=protected-access\u001b[0m\u001b[1;33m\u001b[0m\u001b[1;33m\u001b[0m\u001b[1;33m\u001b[0m\u001b[0m\n\u001b[1;32m-> 6843\u001b[1;33m   \u001b[0msix\u001b[0m\u001b[1;33m.\u001b[0m\u001b[0mraise_from\u001b[0m\u001b[1;33m(\u001b[0m\u001b[0mcore\u001b[0m\u001b[1;33m.\u001b[0m\u001b[0m_status_to_exception\u001b[0m\u001b[1;33m(\u001b[0m\u001b[0me\u001b[0m\u001b[1;33m.\u001b[0m\u001b[0mcode\u001b[0m\u001b[1;33m,\u001b[0m \u001b[0mmessage\u001b[0m\u001b[1;33m)\u001b[0m\u001b[1;33m,\u001b[0m \u001b[1;32mNone\u001b[0m\u001b[1;33m)\u001b[0m\u001b[1;33m\u001b[0m\u001b[1;33m\u001b[0m\u001b[0m\n\u001b[0m\u001b[0;32m   6844\u001b[0m   \u001b[1;31m# pylint: enable=protected-access\u001b[0m\u001b[1;33m\u001b[0m\u001b[1;33m\u001b[0m\u001b[1;33m\u001b[0m\u001b[0m\n\u001b[0;32m   6845\u001b[0m \u001b[1;33m\u001b[0m\u001b[0m\n",
      "\u001b[1;32m~\\Desktop\\object_detection\\TFODCourse\\tfod\\lib\\site-packages\\six.py\u001b[0m in \u001b[0;36mraise_from\u001b[1;34m(value, from_value)\u001b[0m\n",
      "\u001b[1;31mInvalidArgumentError\u001b[0m: Index out of range using input dim 1; input has only 1 dims [Op:StridedSlice] name: strided_slice/"
     ]
    }
   ],
   "source": [
    "img = cv2.imread(image_path)\n",
    "image_np = np.array(img)\n",
    "image_tensor = tf.convert_to_tensor(np.expand_dims(image_np, 0), dtype=tf.float32)\n",
    "detections = detect_fn(image_tensor)\n",
    "for key, value in detections.items():\n",
    "    print(value)\n",
    "    print(value[0, :2].numpy())"
   ]
  },
  {
   "cell_type": "code",
   "execution_count": 53,
   "id": "300f91cd",
   "metadata": {},
   "outputs": [
    {
     "data": {
      "image/png": "[encoded data removed]",
      "text/plain": [
       "<Figure size 432x288 with 1 Axes>"
      ]
     },
     "metadata": {
      "needs_background": "light"
     },
     "output_type": "display_data"
    }
   ],
   "source": [
    "img = cv2.imread(image_path)\n",
    "image_np = np.array(img)\n",
    "image_tensor = tf.convert_to_tensor(np.expand_dims(image_np, 0), dtype=tf.float32)\n",
    "detections = detect_fn(image_tensor)\n",
    "num_detections = int(detections.pop('num_detections'))\n",
    "detections = {key: value[0, :num_detections].numpy() \n",
    "               for key, value in detections.items()}\n",
    "detections['num_detections'] = num_detections\n",
    "detections['detection_classes'] = detections['detection_classes'].astype(np.int64)\n",
    "\n",
    "label_id_offset = 1\n",
    "img_np_with_detections = np.copy(image_np)\n",
    "viz_utils.visualize_boxes_and_labels_on_image_array(\n",
    "                    img_np_with_detections,\n",
    "                    detections['detection_boxes'],\n",
    "                    detections['detection_classes']+label_id_offset,\n",
    "                    detections['detection_scores'],\n",
    "                    category_index,\n",
    "                    use_normalized_coordinates=True,\n",
    "                    max_boxes_to_draw=5,\n",
    "                    min_score_thresh=0.4,\n",
    "                    agnostic_mode=False)\n",
    "plt.imshow(cv2.cvtColor(img_np_with_detections, cv2.COLOR_BGR2RGB))\n",
    "plt.show()"
   ]
  },
  {
   "cell_type": "markdown",
   "id": "4de0c6f5",
   "metadata": {},
   "source": [
    "**real time detection from webcam**"
   ]
  },
  {
   "cell_type": "code",
   "execution_count": null,
   "id": "7bfdac31",
   "metadata": {},
   "outputs": [],
   "source": [
    "cap = cv2.VideoCapture(0)\n",
    "width  = int(cap.get(cv2.CAP_PROP_FRAME_WIDTH))\n",
    "height = int(cap.get(cv2.CAP_PROP_FRAME_HEIGHT))\n",
    "\n",
    "while cap.isOpened():\n",
    "    ret, frame = cap.read()\n",
    "    image_np = np.array(frame)\n",
    "    image_tensor = tf.convert_to_tensor(np.expand_dims(image_np, 0), dtype=tf.float32)\n",
    "    detections = detect_fn(image_tensor)\n",
    "    num_detections = int(detections.pop('num_detections'))\n",
    "    detections = {key:value[0, :num_detections].numpy() \n",
    "                   for key, value in detections.items()}\n",
    "    detections['num_detections'] = num_detections\n",
    "    detections['detection_classes'] = detections['detection_classes'].astype(np.int64)\n",
    "    label_id_offset = 1\n",
    "    img_np_with_detections = np.copy(image_np)\n",
    "    viz_utils.visualize_boxes_and_labels_on_image_array(\n",
    "                    img_np_with_detections,\n",
    "                    detections['detection_boxes'],\n",
    "                    detections['detection_classes'],\n",
    "                    detections['detection_scores'],\n",
    "                    category_index,\n",
    "                    use_normalized_coordinates=True,\n",
    "                    max_boxes_to_draw=5,\n",
    "                    min_score_thresh=0.8,\n",
    "                    agnostic_mode=False)\n",
    "    cv2.imshow('object detection', cv2.resize(img_np_with_detections, (width,height)))\n",
    "    \n",
    "    if cv2.waitKey(1) && 0XFF == ord('q'):\n",
    "        cap.release()\n",
    "        cv2.destroyAllWindows()\n",
    "        break"
   ]
  },
  {
   "cell_type": "markdown",
   "id": "4870fd6e",
   "metadata": {},
   "source": [
    "**freezing the graph**"
   ]
  },
  {
   "cell_type": "code",
   "execution_count": 72,
   "id": "055a18c1",
   "metadata": {},
   "outputs": [
    {
     "name": "stdout",
     "output_type": "stream",
     "text": [
      "python Tensorflow\\models\\research\\object_detection\\exporter_main_v2.py --input_type=image_tensor --pipeline_config_path=Tensorflow\\workspace\\models\\ssd_mobnet_model\\pipeline.config --trained_checkpoint=Tensorflow\\workspace\\models\\ssd_mobnet_model --output_directory=Tensorflow\\workspace\\models\\ssd_mobnet_model\\export\n"
     ]
    }
   ],
   "source": [
    "freeze_script = os.path.join(paths['API_model_path'], 'research', 'object_detection', 'exporter_main_v2.py')\n",
    "freeze_command = \"python {} --input_type=image_tensor --pipeline_config_path={} --trained_checkpoint={} --output_directory={}\".format(freeze_script, files['pipeline_config'], paths['chechpoint_path'], paths['output_path'])\n",
    "print(freeze_command)"
   ]
  },
  {
   "cell_type": "code",
   "execution_count": null,
   "id": "d141dcf6",
   "metadata": {},
   "outputs": [],
   "source": []
  }
 ],
 "metadata": {
  "kernelspec": {
   "display_name": "tfod",
   "language": "python",
   "name": "tfod"
  },
  "language_info": {
   "codemirror_mode": {
    "name": "ipython",
    "version": 3
   },
   "file_extension": ".py",
   "mimetype": "text/x-python",
   "name": "python",
   "nbconvert_exporter": "python",
   "pygments_lexer": "ipython3",
   "version": "3.8.10"
  }
 },
 "nbformat": 4,
 "nbformat_minor": 5
}

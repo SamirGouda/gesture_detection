{
 "cells": [
  {
   "cell_type": "markdown",
   "id": "26a94f3a",
   "metadata": {},
   "source": [
    "**Import Libraries**"
   ]
  },
  {
   "cell_type": "code",
   "execution_count": 1,
   "id": "deea7011",
   "metadata": {},
   "outputs": [
    {
     "name": "stdout",
     "output_type": "stream",
     "text": [
      "Collecting opencv-python\n",
      "  Downloading opencv_python-4.5.3.56-cp38-cp38-win_amd64.whl (34.9 MB)\n",
      "Collecting numpy>=1.17.3\n",
      "  Downloading numpy-1.21.1-cp38-cp38-win_amd64.whl (14.0 MB)\n",
      "Installing collected packages: numpy, opencv-python\n",
      "Successfully installed numpy-1.21.1 opencv-python-4.5.3.56\n"
     ]
    }
   ],
   "source": [
    "# install opencv to the virtualenv\n",
    "!pip install opencv-python    "
   ]
  },
  {
   "cell_type": "code",
   "execution_count": 2,
   "id": "c350a7b8",
   "metadata": {},
   "outputs": [],
   "source": [
    "import cv2  # opencv\n",
    "import uuid # universal unique identifier for unique image names\n",
    "import os   # import operating system for path manipulation\n",
    "import time # to add delay in photo capturing mode"
   ]
  },
  {
   "cell_type": "markdown",
   "id": "0e9ef09d",
   "metadata": {},
   "source": [
    "**Define Classes of images**"
   ]
  },
  {
   "cell_type": "code",
   "execution_count": 3,
   "id": "cde26d7b",
   "metadata": {},
   "outputs": [],
   "source": [
    "labels = ['thumbsup', 'thumbsdown', 'livelong', 'thankyou']    # classes label\n",
    "num_imgs = 5                                                   # number of images to be taken for each class"
   ]
  },
  {
   "cell_type": "markdown",
   "id": "ad0c5ba3",
   "metadata": {},
   "source": [
    "**Setup folders**"
   ]
  },
  {
   "cell_type": "code",
   "execution_count": 4,
   "id": "50941b89",
   "metadata": {},
   "outputs": [],
   "source": [
    "IMAGES_PATH = os.path.join('Tensorflow', 'workspace', 'images', 'collectedimages')\n",
    "# create image path directory\n",
    "if not os.path.exists(IMAGES_PATH):\n",
    "    if os.name == 'posix':      # for linux\n",
    "        !mkdir -p {IMAGES_PATH}\n",
    "    if os.name == 'nt':         # for windows\n",
    "        !mkdir {IMAGES_PATH}\n",
    "# create subdirectories for each class\n",
    "for label in labels:\n",
    "    path = os.path.join(IMAGES_PATH, label)\n",
    "    if not os.path.exists(path):\n",
    "        !mkdir {path}"
   ]
  },
  {
   "cell_type": "markdown",
   "id": "ebf09bfd",
   "metadata": {},
   "source": [
    "**Capture Images**"
   ]
  },
  {
   "cell_type": "code",
   "execution_count": 5,
   "id": "75678837",
   "metadata": {},
   "outputs": [
    {
     "name": "stdout",
     "output_type": "stream",
     "text": [
      "Capturing Images for thumbsup\n",
      "Capturing images 0\n",
      "Capturing images 1\n",
      "Capturing images 2\n",
      "Capturing images 3\n",
      "Capturing images 4\n",
      "Capturing Images for thumbsdown\n",
      "Capturing images 0\n",
      "Capturing images 1\n",
      "Capturing images 2\n",
      "Capturing images 3\n",
      "Capturing images 4\n",
      "Capturing Images for livelong\n",
      "Capturing images 0\n",
      "Capturing images 1\n",
      "Capturing images 2\n",
      "Capturing images 3\n",
      "Capturing images 4\n",
      "Capturing Images for thankyou\n",
      "Capturing images 0\n",
      "Capturing images 1\n",
      "Capturing images 2\n",
      "Capturing images 3\n",
      "Capturing images 4\n"
     ]
    }
   ],
   "source": [
    "for label in labels:\n",
    "    cap = cv2.VideoCapture(0)     # connect to webcam\n",
    "    print(\"Capturing Images for {}\".format(label))\n",
    "    time.sleep(4)                 # wait 5 sec to adjust posture\n",
    "    for img_num in range(num_imgs):\n",
    "        print('Capturing images {}'.format(str(img_num)))\n",
    "        ret, frame = cap.read()   # capture frame\n",
    "        # create image file\n",
    "        img_name = os.path.join(IMAGES_PATH, label, label+ '.'+ '{}.jpg'.format(str(uuid.uuid1())))\n",
    "        cv2.imwrite(img_name, frame)    # write the frame to the jpg image file\n",
    "        cv2.imshow('frame', frame)      # show taken frame\n",
    "        time.sleep(2)\n",
    "        \n",
    "        if cv2.waitKey(1) & 0xFF == ord('q'):      # press q key for 1sec to close the \n",
    "            break\n",
    "    cap.release()                                  # end capture instance to avoid error when capturing for next class\n",
    "cv2.destroyAllWindows()                            # close frame window"
   ]
  },
  {
   "cell_type": "markdown",
   "id": "18dcd8de",
   "metadata": {},
   "source": [
    "**Image Labeling**"
   ]
  },
  {
   "cell_type": "code",
   "execution_count": 5,
   "id": "d1ccb972",
   "metadata": {},
   "outputs": [
    {
     "name": "stdout",
     "output_type": "stream",
     "text": [
      "Collecting pyqt5\n",
      "  Using cached PyQt5-5.15.4-cp36.cp37.cp38.cp39-none-win_amd64.whl (6.8 MB)\n",
      "Collecting lxml\n",
      "  Downloading lxml-4.6.3-cp38-cp38-win_amd64.whl (3.5 MB)\n",
      "Collecting PyQt5-Qt5>=5.15\n",
      "  Using cached PyQt5_Qt5-5.15.2-py3-none-win_amd64.whl (50.1 MB)\n",
      "Collecting PyQt5-sip<13,>=12.8\n",
      "  Downloading PyQt5_sip-12.9.0-cp38-cp38-win_amd64.whl (63 kB)\n",
      "Installing collected packages: PyQt5-sip, PyQt5-Qt5, pyqt5, lxml\n",
      "Successfully installed PyQt5-Qt5-5.15.2 PyQt5-sip-12.9.0 lxml-4.6.3 pyqt5-5.15.4\n"
     ]
    }
   ],
   "source": [
    "# install pyqt5 and lxml for image labeling\n",
    "!pip install --upgrade pyqt5 lxml"
   ]
  },
  {
   "cell_type": "code",
   "execution_count": 6,
   "id": "92b25091",
   "metadata": {},
   "outputs": [
    {
     "name": "stdout",
     "output_type": "stream",
     "text": [
      "Package             Version\n",
      "------------------- --------\n",
      "argon2-cffi         20.1.0\n",
      "async-generator     1.10\n",
      "attrs               21.2.0\n",
      "backcall            0.2.0\n",
      "bleach              3.3.1\n",
      "cffi                1.14.6\n",
      "colorama            0.4.4\n",
      "debugpy             1.4.1\n",
      "decorator           5.0.9\n",
      "defusedxml          0.7.1\n",
      "entrypoints         0.3\n",
      "ipykernel           6.0.3\n",
      "ipython             7.25.0\n",
      "ipython-genutils    0.2.0\n",
      "ipywidgets          7.6.3\n",
      "jedi                0.18.0\n",
      "Jinja2              3.0.1\n",
      "jsonschema          3.2.0\n",
      "jupyter             1.0.0\n",
      "jupyter-client      6.1.12\n",
      "jupyter-console     6.4.0\n",
      "jupyter-core        4.7.1\n",
      "jupyterlab-pygments 0.1.2\n",
      "jupyterlab-widgets  1.0.0\n",
      "lxml                4.6.3\n",
      "MarkupSafe          2.0.1\n",
      "matplotlib-inline   0.1.2\n",
      "mistune             0.8.4\n",
      "nbclient            0.5.3\n",
      "nbconvert           6.1.0\n",
      "nbformat            5.1.3\n",
      "nest-asyncio        1.5.1\n",
      "notebook            6.4.0\n",
      "numpy               1.21.1\n",
      "opencv-python       4.5.3.56\n",
      "packaging           21.0\n",
      "pandocfilters       1.4.3\n",
      "parso               0.8.2\n",
      "pickleshare         0.7.5\n",
      "pip                 21.2.1\n",
      "prometheus-client   0.11.0\n",
      "prompt-toolkit      3.0.19\n",
      "pycparser           2.20\n",
      "Pygments            2.9.0\n",
      "pyparsing           2.4.7\n",
      "PyQt5               5.15.4\n",
      "PyQt5-Qt5           5.15.2\n",
      "PyQt5-sip           12.9.0\n",
      "pyrsistent          0.18.0\n",
      "python-dateutil     2.8.2\n",
      "pywin32             301\n",
      "pywinpty            1.1.3\n",
      "pyzmq               22.1.0\n",
      "qtconsole           5.1.1\n",
      "QtPy                1.9.0\n",
      "Send2Trash          1.7.1\n",
      "setuptools          56.0.0\n",
      "six                 1.16.0\n",
      "terminado           0.10.1\n",
      "testpath            0.5.0\n",
      "tornado             6.1\n",
      "traitlets           5.0.5\n",
      "wcwidth             0.2.5\n",
      "webencodings        0.5.1\n",
      "widgetsnbextension  3.5.1\n"
     ]
    }
   ],
   "source": [
    "# list all installed packages in the virtualenv\n",
    "!pip list"
   ]
  },
  {
   "cell_type": "code",
   "execution_count": 7,
   "id": "86d34d1d",
   "metadata": {},
   "outputs": [],
   "source": [
    "LABELIMG_PATH = os.path.join('Tensorflow', 'labelimg')  # set label image path\n",
    "if not os.path.exists(LABELIMG_PATH):\n",
    "    # create directory\n",
    "    !mkdir {LABELIMG_PATH}\n",
    "    # clone the image labeling repo\n",
    "    !git clone clone https://github.com/tzutalin/labelImg {LABELIMG_PATH}"
   ]
  },
  {
   "cell_type": "code",
   "execution_count": 8,
   "id": "8054b7f7",
   "metadata": {},
   "outputs": [],
   "source": [
    "# install label image package\n",
    "if os.name == 'posix':\n",
    "    !cd {LABELIMG_PATH} && make qt5py3\n",
    "if os.name == 'nt':\n",
    "    !cd {LABELIMG_PATH} && pyrcc5 -o libs/resources.py resources.qrc"
   ]
  },
  {
   "cell_type": "code",
   "execution_count": 9,
   "id": "b58913f0",
   "metadata": {},
   "outputs": [],
   "source": [
    "# run the package\n",
    "!cd {LABELIMG_PATH} && python labelImg.py"
   ]
  },
  {
   "cell_type": "markdown",
   "id": "c45b9553",
   "metadata": {},
   "source": [
    "**Split the set to train and dev sets**"
   ]
  },
  {
   "cell_type": "code",
   "execution_count": 3,
   "id": "00ae956f",
   "metadata": {},
   "outputs": [],
   "source": [
    "TRAIN_PATH = os.path.join('Tensorflow', 'workspace', 'images', 'train')\n",
    "TEST_PATH = os.path.join('Tensorflow', 'workspace', 'images', 'test')\n",
    "ARCHIVE_PATH = os.path.join('Tensorflow', 'workspace', 'images', 'archive.tar.gz')\n",
    "# compress the folder for colab training\n",
    "!tar -czf {ARCHIVE_PATH} {TRAIN_PATH} {TEST_PATH}"
   ]
  },
  {
   "cell_type": "code",
   "execution_count": null,
   "id": "000a5275",
   "metadata": {},
   "outputs": [],
   "source": []
  }
 ],
 "metadata": {
  "kernelspec": {
   "display_name": "tfod",
   "language": "python",
   "name": "tfod"
  },
  "language_info": {
   "codemirror_mode": {
    "name": "ipython",
    "version": 3
   },
   "file_extension": ".py",
   "mimetype": "text/x-python",
   "name": "python",
   "nbconvert_exporter": "python",
   "pygments_lexer": "ipython3",
   "version": "3.8.10"
  }
 },
 "nbformat": 4,
 "nbformat_minor": 5
}
